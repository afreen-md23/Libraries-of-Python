{
  "nbformat": 4,
  "nbformat_minor": 0,
  "metadata": {
    "colab": {
      "provenance": []
    },
    "kernelspec": {
      "name": "python3",
      "display_name": "Python 3"
    },
    "language_info": {
      "name": "python"
    }
  },
  "cells": [
    {
      "cell_type": "markdown",
      "source": [
        "# Importing the library of numpy"
      ],
      "metadata": {
        "id": "sar0pgiNX7OU"
      }
    },
    {
      "cell_type": "code",
      "execution_count": null,
      "metadata": {
        "id": "m9qk7izfWgsZ"
      },
      "outputs": [],
      "source": [
        "import numpy as np"
      ]
    },
    {
      "cell_type": "markdown",
      "source": [
        "# we can define numpy through list as well as tuple"
      ],
      "metadata": {
        "id": "5VZR57L3XVVz"
      }
    },
    {
      "cell_type": "code",
      "source": [
        "a=np.array([1,2,3,4,5],dtype='i') # we can define data type as we want but by defalut it takes data type according to the values\n",
        "print(a)\n",
        "type(a) # ndarray refers that it is a one dimensional Array"
      ],
      "metadata": {
        "colab": {
          "base_uri": "https://localhost:8080/"
        },
        "id": "L8YCUHy4Ww_Q",
        "outputId": "c5a400b7-af5b-4d99-f0dc-f69d1b19e71f"
      },
      "execution_count": null,
      "outputs": [
        {
          "output_type": "stream",
          "name": "stdout",
          "text": [
            "[1 2 3 4 5]\n"
          ]
        },
        {
          "output_type": "execute_result",
          "data": {
            "text/plain": [
              "numpy.ndarray"
            ]
          },
          "metadata": {},
          "execution_count": 5
        }
      ]
    },
    {
      "cell_type": "code",
      "source": [
        "a.dtype\n",
        "print(a[0])"
      ],
      "metadata": {
        "colab": {
          "base_uri": "https://localhost:8080/"
        },
        "id": "ncyq9ohkYdQa",
        "outputId": "cd83d0df-d500-447d-a68f-e900bab836f9"
      },
      "execution_count": null,
      "outputs": [
        {
          "output_type": "stream",
          "name": "stdout",
          "text": [
            "1\n"
          ]
        }
      ]
    },
    {
      "cell_type": "code",
      "source": [
        "b=np.array((1,2,3,5,6), dtype='f')\n",
        "print(b)\n",
        "type(b)"
      ],
      "metadata": {
        "colab": {
          "base_uri": "https://localhost:8080/"
        },
        "id": "Gt97UL4CWu3p",
        "outputId": "b2105cbf-a03e-4572-8305-c94e752207e0"
      },
      "execution_count": null,
      "outputs": [
        {
          "output_type": "stream",
          "name": "stdout",
          "text": [
            "[1. 2. 3. 5. 6.]\n"
          ]
        },
        {
          "output_type": "execute_result",
          "data": {
            "text/plain": [
              "numpy.ndarray"
            ]
          },
          "metadata": {},
          "execution_count": 7
        }
      ]
    },
    {
      "cell_type": "code",
      "source": [
        "b.dtype"
      ],
      "metadata": {
        "colab": {
          "base_uri": "https://localhost:8080/"
        },
        "id": "_YCcHLZgWuTc",
        "outputId": "69a473df-dcd2-4de4-d228-e9dfe6ba65ac"
      },
      "execution_count": null,
      "outputs": [
        {
          "output_type": "execute_result",
          "data": {
            "text/plain": [
              "dtype('float32')"
            ]
          },
          "metadata": {},
          "execution_count": 8
        }
      ]
    },
    {
      "cell_type": "markdown",
      "source": [
        "# Numpy Dimensions\n",
        "\n",
        "The Elements of the numpy array must have same type of datatype.\n",
        "\n",
        "It cannot store heterogenous elements.\n",
        "\n"
      ],
      "metadata": {
        "id": "ap7BrsnvZSJZ"
      }
    },
    {
      "cell_type": "code",
      "source": [
        "a=np.array([[1,2,3],[4,5,6]])\n",
        "print(a)\n",
        "print(f\"It is {a.ndim} dimension array \") # Here \"\" ndim \"\" is used to find Dimension of the array"
      ],
      "metadata": {
        "colab": {
          "base_uri": "https://localhost:8080/"
        },
        "id": "sShjU4aWZZpS",
        "outputId": "3e5bc49f-d53c-4043-dc08-40c8add92d85"
      },
      "execution_count": null,
      "outputs": [
        {
          "output_type": "stream",
          "name": "stdout",
          "text": [
            "[[1 2 3]\n",
            " [4 5 6]]\n",
            "It is 2 dimension array \n"
          ]
        }
      ]
    },
    {
      "cell_type": "code",
      "source": [
        "print(a[(0,1),(2,1)]) # retrive elements from the array"
      ],
      "metadata": {
        "colab": {
          "base_uri": "https://localhost:8080/"
        },
        "id": "ZM8jiFWecjx-",
        "outputId": "1f4bdb95-a9e0-4336-8f72-f9e05fad63d5"
      },
      "execution_count": null,
      "outputs": [
        {
          "output_type": "stream",
          "name": "stdout",
          "text": [
            "[3 5]\n"
          ]
        }
      ]
    },
    {
      "cell_type": "code",
      "source": [
        "a.shape   # we have 2 rows and each row consist of 3 elements"
      ],
      "metadata": {
        "colab": {
          "base_uri": "https://localhost:8080/"
        },
        "id": "bc84Cio-mVRB",
        "outputId": "15584fe3-84dc-45ef-ece5-d70a1aa7a881"
      },
      "execution_count": null,
      "outputs": [
        {
          "output_type": "execute_result",
          "data": {
            "text/plain": [
              "(2, 3)"
            ]
          },
          "metadata": {},
          "execution_count": 11
        }
      ]
    },
    {
      "cell_type": "code",
      "source": [
        "b=np.array([[[1,2,0],[3,4,9]],\n",
        "            [[5,6,4],[6,7,8]]])\n",
        "print(b)\n",
        "print(f\"It is {b.ndim} dimension array \")\n",
        "\n",
        "b.size # total elements in the array\n"
      ],
      "metadata": {
        "colab": {
          "base_uri": "https://localhost:8080/"
        },
        "id": "mqjdjsySaXio",
        "outputId": "d55a4a1f-f459-4b90-b0a6-864551a92cf1"
      },
      "execution_count": null,
      "outputs": [
        {
          "output_type": "stream",
          "name": "stdout",
          "text": [
            "[[[1 2 0]\n",
            "  [3 4 9]]\n",
            "\n",
            " [[5 6 4]\n",
            "  [6 7 8]]]\n",
            "It is 3 dimension array \n"
          ]
        },
        {
          "output_type": "execute_result",
          "data": {
            "text/plain": [
              "12"
            ]
          },
          "metadata": {},
          "execution_count": 12
        }
      ]
    },
    {
      "cell_type": "code",
      "source": [
        "print(b[0,[0,1],[0,1]])\n",
        "print(b[0,1])\n",
        "b.nbytes"
      ],
      "metadata": {
        "colab": {
          "base_uri": "https://localhost:8080/"
        },
        "id": "E9vFGtf6cW4X",
        "outputId": "1f0a4914-1c75-4a46-b514-199ca1aaed7e"
      },
      "execution_count": null,
      "outputs": [
        {
          "output_type": "stream",
          "name": "stdout",
          "text": [
            "[1 4]\n",
            "[3 4 9]\n"
          ]
        },
        {
          "output_type": "execute_result",
          "data": {
            "text/plain": [
              "96"
            ]
          },
          "metadata": {},
          "execution_count": 13
        }
      ]
    },
    {
      "cell_type": "code",
      "source": [
        "b.shape # here it is three dimension having in depth 2 rows and indepth 2 rows have each row have 2 rows and in each row it have 3 elements"
      ],
      "metadata": {
        "colab": {
          "base_uri": "https://localhost:8080/"
        },
        "id": "O0sQxNsJmx4I",
        "outputId": "00923523-0d83-4b02-f2b8-a2ea51af0724"
      },
      "execution_count": null,
      "outputs": [
        {
          "output_type": "execute_result",
          "data": {
            "text/plain": [
              "(2, 2, 3)"
            ]
          },
          "metadata": {},
          "execution_count": 14
        }
      ]
    },
    {
      "cell_type": "code",
      "source": [
        "c=np.array([1])\n",
        "print(c.ndim)\n",
        "c.size"
      ],
      "metadata": {
        "colab": {
          "base_uri": "https://localhost:8080/"
        },
        "id": "1LVdvsgtnsXz",
        "outputId": "b23be14e-dc3f-4535-8b8f-7e0c34a6c7fc"
      },
      "execution_count": null,
      "outputs": [
        {
          "output_type": "stream",
          "name": "stdout",
          "text": [
            "1\n"
          ]
        },
        {
          "output_type": "execute_result",
          "data": {
            "text/plain": [
              "1"
            ]
          },
          "metadata": {},
          "execution_count": 15
        }
      ]
    },
    {
      "cell_type": "code",
      "source": [
        "c.shape"
      ],
      "metadata": {
        "colab": {
          "base_uri": "https://localhost:8080/"
        },
        "id": "rR6vOPMOu92V",
        "outputId": "a0536e76-4bf2-46f1-d5ff-770db527936c"
      },
      "execution_count": null,
      "outputs": [
        {
          "output_type": "execute_result",
          "data": {
            "text/plain": [
              "(1,)"
            ]
          },
          "metadata": {},
          "execution_count": 16
        }
      ]
    },
    {
      "cell_type": "code",
      "source": [
        "arr=np.arange(1,10,2)  # Arrange (start , end ,step) its like for loop\n",
        "print(arr)"
      ],
      "metadata": {
        "colab": {
          "base_uri": "https://localhost:8080/"
        },
        "id": "GpQizxO8vUrb",
        "outputId": "f6753301-ec8d-4b0b-9451-4c93307510a5"
      },
      "execution_count": null,
      "outputs": [
        {
          "output_type": "stream",
          "name": "stdout",
          "text": [
            "[1 3 5 7 9]\n"
          ]
        }
      ]
    },
    {
      "cell_type": "markdown",
      "source": [
        "\n",
        "random is used in many ways here are some methods\n"
      ],
      "metadata": {
        "id": "ZNhLY5882XlP"
      }
    },
    {
      "cell_type": "code",
      "source": [
        "z=np.random.permutation(np.arange(10))  # it prints in a random manner\n",
        "print(z)"
      ],
      "metadata": {
        "colab": {
          "base_uri": "https://localhost:8080/"
        },
        "id": "uVmkwjlD1eyo",
        "outputId": "74a9838b-3885-48ab-baf5-5f99f22fc079"
      },
      "execution_count": null,
      "outputs": [
        {
          "output_type": "stream",
          "name": "stdout",
          "text": [
            "[5 9 4 1 7 6 3 8 0 2]\n"
          ]
        }
      ]
    },
    {
      "cell_type": "code",
      "source": [
        "y=np.random.randint(20,30)  # randint creates an random integer from staring of the number to the end of the number\n",
        "print(y)"
      ],
      "metadata": {
        "colab": {
          "base_uri": "https://localhost:8080/"
        },
        "id": "w-8s5w_A2Fqg",
        "outputId": "0ca81615-4db3-4a30-bce5-ddf529e2ddcd"
      },
      "execution_count": null,
      "outputs": [
        {
          "output_type": "stream",
          "name": "stdout",
          "text": [
            "26\n"
          ]
        }
      ]
    },
    {
      "cell_type": "code",
      "source": [
        "x=np.random.rand(1000) # is used to generate random numbers from a uniform distribution over [0, 1),\n",
        "#   meaning:\n",
        "\n",
        " #Numbers ≥ 0 and < 1\n",
        "\n",
        " #All equally likely\n",
        "print(x)"
      ],
      "metadata": {
        "colab": {
          "base_uri": "https://localhost:8080/"
        },
        "id": "7S58NTz53xzG",
        "outputId": "39d26caa-7813-4e51-da5b-2018457c8e6e"
      },
      "execution_count": null,
      "outputs": [
        {
          "output_type": "stream",
          "name": "stdout",
          "text": [
            "[4.64697878e-01 4.30260940e-01 9.06947748e-01 1.06598613e-01\n",
            " 1.35460474e-02 2.04935273e-02 9.85896465e-01 6.11486902e-01\n",
            " 2.37950393e-01 1.10381798e-01 5.40208819e-01 5.64766022e-02\n",
            " 9.87252008e-01 8.21252096e-01 1.22507838e-01 4.49978002e-01\n",
            " 8.48995073e-01 2.89575452e-01 5.62310699e-01 3.79207485e-01\n",
            " 8.27562503e-01 7.23336013e-01 2.09755467e-01 7.85375605e-01\n",
            " 7.53728914e-01 1.52895431e-01 1.89507553e-01 9.24396952e-01\n",
            " 5.99241752e-01 2.64874051e-01 2.96004423e-01 1.59968145e-01\n",
            " 8.84341688e-01 4.09477557e-01 7.63030078e-01 5.19925444e-01\n",
            " 9.43559332e-01 8.30439415e-01 6.26840736e-01 8.10086740e-01\n",
            " 9.04644266e-01 1.66177902e-01 5.71672275e-01 7.98924550e-01\n",
            " 7.17021804e-01 2.69526920e-01 1.24765768e-01 7.53982209e-01\n",
            " 5.33546357e-01 5.45504940e-01 5.26990965e-01 5.85245779e-01\n",
            " 4.70100419e-01 4.52281696e-01 2.12937814e-01 4.97162097e-01\n",
            " 1.35308811e-01 6.95465340e-03 3.72647948e-01 2.43747260e-01\n",
            " 3.93480002e-01 8.83004128e-01 5.41332893e-01 4.65672409e-01\n",
            " 6.53473163e-01 7.23652322e-01 4.05765779e-01 5.09267302e-02\n",
            " 7.05694856e-01 7.09559636e-01 6.93103298e-01 2.32151255e-02\n",
            " 6.99718805e-01 3.26415446e-01 4.56500741e-01 6.58389168e-01\n",
            " 1.40704338e-01 7.15684597e-01 4.47421881e-01 9.82378302e-01\n",
            " 7.41363614e-02 7.75187281e-01 6.56846113e-01 2.68877748e-01\n",
            " 9.44558681e-01 3.86119891e-01 6.83511504e-01 2.14095752e-01\n",
            " 9.08130015e-01 4.57251294e-01 2.52986101e-01 2.30411122e-01\n",
            " 5.41699019e-01 5.14892222e-01 9.25751678e-01 9.31601630e-01\n",
            " 1.15459835e-01 1.37581132e-01 2.58844216e-01 1.93347139e-01\n",
            " 1.08028029e-01 6.50344141e-01 8.91211508e-01 8.30852702e-01\n",
            " 9.91133263e-01 5.22108311e-01 6.56160845e-01 4.89918658e-01\n",
            " 7.49543522e-01 2.77582454e-02 9.69764651e-01 2.04247254e-02\n",
            " 9.13622641e-01 8.35676605e-01 3.70206788e-01 7.80373103e-01\n",
            " 9.63827670e-01 9.99127642e-01 6.15987391e-02 3.30752368e-01\n",
            " 9.57633918e-01 2.33008130e-01 4.71584424e-01 6.81672286e-01\n",
            " 3.51017368e-01 9.70157797e-01 4.79011130e-01 8.89127258e-01\n",
            " 7.99540163e-01 8.24282349e-01 2.36301279e-01 7.01142640e-01\n",
            " 8.82677978e-01 9.46594440e-01 6.97316775e-01 4.15048717e-01\n",
            " 2.35442177e-01 6.70956668e-01 1.28648862e-01 4.79538174e-01\n",
            " 2.08480598e-01 2.83665124e-01 3.74962670e-01 7.74945822e-01\n",
            " 9.73211340e-01 5.57816490e-02 7.61517336e-01 8.33912956e-02\n",
            " 6.78551856e-01 1.43488242e-01 4.36168921e-01 8.64606702e-01\n",
            " 6.39645106e-02 9.38660157e-01 7.36775181e-01 8.63774902e-01\n",
            " 1.56128105e-01 2.59750496e-01 9.75858315e-01 8.81478149e-02\n",
            " 9.61877843e-01 6.46509051e-01 3.36206204e-01 4.61197772e-02\n",
            " 4.33942884e-02 2.56685144e-01 6.39438074e-01 2.20780651e-02\n",
            " 5.66293649e-01 1.99222921e-01 5.99216291e-01 6.47263868e-01\n",
            " 5.71827652e-01 3.81507610e-01 2.63048639e-01 5.48611849e-01\n",
            " 1.79805458e-02 7.92910067e-01 1.86358492e-01 1.66995125e-01\n",
            " 9.76121099e-02 8.24585417e-01 7.83014199e-01 8.21685112e-01\n",
            " 6.20579140e-01 9.21088703e-01 4.49581476e-01 9.10643197e-01\n",
            " 9.63008466e-02 6.88169933e-01 9.29027961e-01 8.40096741e-02\n",
            " 9.77644194e-01 1.21156480e-01 5.95780654e-02 4.31598790e-01\n",
            " 5.08904056e-01 8.64928592e-02 2.18458739e-01 4.70347193e-01\n",
            " 7.04861216e-02 8.40646944e-01 7.89498794e-01 1.27646134e-01\n",
            " 6.14901966e-01 5.42698599e-01 1.20839810e-01 6.74257864e-01\n",
            " 5.84485074e-01 6.07665910e-01 9.33973718e-01 8.17380267e-01\n",
            " 4.72695570e-02 8.69566695e-01 7.47144697e-01 4.49357671e-01\n",
            " 3.09518659e-01 3.73115779e-01 8.48731009e-01 8.15533027e-02\n",
            " 7.98508357e-01 1.19891621e-01 2.99107663e-01 7.06633758e-01\n",
            " 2.89947537e-02 7.73225848e-01 3.75447551e-01 2.31059350e-01\n",
            " 3.73011156e-01 9.96775820e-01 1.53991035e-01 6.69339532e-01\n",
            " 5.21385345e-01 7.59185802e-01 5.74165832e-01 8.43490063e-01\n",
            " 7.84148919e-01 3.41843445e-01 5.42877161e-01 6.01082342e-02\n",
            " 4.16350420e-01 6.75376060e-01 4.78921455e-01 2.10513223e-01\n",
            " 9.83990334e-01 3.68075874e-01 8.86326346e-01 8.52915163e-01\n",
            " 2.04913840e-01 9.42812112e-01 6.41830594e-01 7.56875590e-01\n",
            " 6.74904944e-01 8.83492097e-01 8.17843778e-01 8.39579387e-02\n",
            " 3.77309131e-01 7.17530123e-01 7.52296028e-01 5.32566491e-01\n",
            " 7.95495540e-01 7.28203723e-01 7.35216418e-01 4.30431190e-01\n",
            " 4.17866404e-01 3.12254531e-01 4.76369768e-01 9.26695577e-01\n",
            " 7.18823861e-01 3.12878928e-03 3.85095249e-01 8.64977201e-01\n",
            " 9.71210611e-01 4.58151820e-01 4.51091974e-01 3.83566378e-01\n",
            " 4.16923501e-01 9.31293002e-01 2.30129681e-01 2.35433393e-01\n",
            " 5.05541578e-01 5.88910452e-01 5.69058783e-01 8.64304577e-02\n",
            " 8.03936208e-02 9.99729755e-01 2.44045406e-01 9.34605787e-01\n",
            " 9.95688152e-01 2.26586263e-01 6.74586157e-02 7.56350505e-01\n",
            " 6.61428096e-01 6.20948066e-01 8.38989412e-01 3.11082042e-01\n",
            " 4.28735468e-01 5.25063822e-01 9.21715641e-01 3.39656043e-01\n",
            " 6.91508558e-01 5.60039609e-01 3.97307929e-01 3.73512006e-01\n",
            " 7.73041289e-01 1.72926674e-01 1.99614703e-01 5.24843874e-01\n",
            " 3.42549785e-01 3.61358359e-01 6.65051572e-01 2.20945581e-01\n",
            " 1.03143503e-01 2.04738491e-01 8.33388143e-01 5.71175866e-01\n",
            " 6.31479785e-01 4.33368658e-03 3.50211772e-01 8.84426333e-01\n",
            " 4.06065262e-01 5.47929070e-05 4.40575197e-01 9.98619331e-01\n",
            " 1.25473575e-01 7.37050324e-01 5.75751306e-01 7.47482959e-01\n",
            " 1.85205849e-01 8.43858824e-01 4.54876643e-01 1.90966661e-01\n",
            " 1.02276991e-01 1.21841901e-01 9.10979372e-01 4.58604517e-01\n",
            " 3.83100408e-02 7.79587157e-01 6.99331711e-01 7.65118593e-01\n",
            " 1.65335175e-01 9.55930108e-01 8.85001506e-01 4.04412719e-01\n",
            " 9.43369315e-01 3.40814309e-01 1.98260396e-01 9.70472818e-01\n",
            " 1.21202738e-01 9.49619619e-02 5.38360248e-01 2.15950555e-01\n",
            " 4.97303518e-01 4.84861862e-01 4.23585141e-01 2.13401350e-01\n",
            " 4.59352655e-01 3.67126386e-01 2.20057334e-01 6.34331213e-01\n",
            " 1.86234284e-01 5.23210186e-01 2.06470491e-01 9.13488622e-02\n",
            " 1.77498414e-01 3.90390182e-01 9.07339460e-01 9.64498421e-01\n",
            " 4.49803778e-01 6.86472625e-01 9.00078886e-01 8.06443255e-01\n",
            " 6.88982934e-01 4.04993691e-01 2.85508671e-02 3.05809204e-01\n",
            " 7.23079654e-01 4.02064367e-01 8.00568199e-01 7.61951013e-01\n",
            " 4.80997108e-01 4.47979636e-01 8.29264734e-01 2.85356826e-01\n",
            " 9.61793231e-01 8.53667090e-01 5.17203600e-02 2.37500234e-01\n",
            " 1.33352349e-01 5.56036128e-01 6.22400137e-01 6.38366807e-01\n",
            " 8.14193989e-01 4.84869793e-01 1.25607457e-01 3.51811516e-01\n",
            " 6.17802729e-01 9.05157901e-01 7.94592539e-01 2.69308434e-01\n",
            " 6.75903971e-01 1.76486677e-01 2.36899455e-01 5.88300185e-01\n",
            " 7.03538691e-01 9.42065307e-01 6.74673840e-01 2.94192711e-01\n",
            " 2.03696707e-01 3.20859284e-01 4.33058803e-01 3.93546390e-01\n",
            " 4.17370279e-01 7.25609565e-01 1.11285809e-01 3.05950437e-02\n",
            " 1.76415335e-03 1.79636830e-01 6.86816634e-01 1.13768879e-01\n",
            " 7.06875146e-01 1.37257038e-01 7.70500688e-01 3.95720194e-01\n",
            " 9.47370761e-01 2.13556099e-01 8.50376013e-01 5.59292603e-01\n",
            " 7.00407804e-01 1.95690837e-01 6.43795686e-01 6.08719969e-01\n",
            " 5.71068045e-01 9.55004351e-01 6.88320387e-01 2.35046405e-01\n",
            " 2.48672317e-01 5.47678655e-01 5.71778722e-01 9.86374472e-01\n",
            " 7.84265561e-02 5.84590873e-01 9.10670651e-01 3.82564450e-01\n",
            " 7.27248687e-01 5.11015984e-01 1.80885375e-02 2.88269929e-01\n",
            " 1.62182680e-01 1.21712221e-01 8.61500153e-01 9.07477219e-01\n",
            " 6.94894507e-01 2.56520531e-01 4.82806545e-01 5.95792574e-01\n",
            " 3.37491825e-02 9.01459092e-01 9.89389559e-01 8.23731274e-01\n",
            " 1.28946312e-02 4.80980337e-01 9.51830845e-01 5.90251887e-01\n",
            " 7.73185820e-01 1.27048710e-01 6.75715835e-01 6.47938295e-01\n",
            " 6.98133624e-01 6.45180093e-01 8.46710759e-01 1.75532887e-01\n",
            " 8.00523644e-01 3.13913796e-01 2.97396653e-01 6.58691051e-01\n",
            " 5.18955633e-01 6.06041711e-01 6.95736968e-01 4.93893088e-01\n",
            " 4.70820379e-01 4.80303800e-01 6.30762960e-01 1.05777244e-01\n",
            " 8.33991097e-01 2.88272445e-01 1.60058434e-01 1.09482653e-01\n",
            " 7.10883820e-01 2.87965800e-02 4.55099787e-01 6.22671394e-01\n",
            " 9.70161131e-01 8.53021739e-01 4.80830663e-01 9.75068472e-01\n",
            " 8.84068717e-01 2.18704287e-01 9.59097445e-01 8.66303628e-01\n",
            " 2.41768327e-01 6.72198464e-01 6.23102448e-01 9.51063415e-01\n",
            " 1.16514741e-01 7.58222742e-01 5.81458678e-01 1.80506129e-02\n",
            " 8.47069182e-01 4.85307888e-01 9.47067633e-01 1.45938822e-01\n",
            " 9.12618926e-01 3.22922015e-02 6.18866181e-01 7.72363810e-03\n",
            " 7.49326797e-01 5.83558377e-01 1.23022698e-01 7.39403558e-01\n",
            " 8.51329049e-01 6.41346241e-01 3.04379942e-01 1.45279914e-01\n",
            " 6.65776848e-01 4.30475342e-03 6.84899895e-01 5.84761667e-01\n",
            " 5.02502543e-01 5.08094797e-01 1.64283886e-01 3.46727214e-01\n",
            " 8.84963921e-01 3.21369105e-01 6.53832348e-01 1.17685331e-02\n",
            " 6.40092935e-01 2.74382729e-01 1.05451921e-01 1.61223184e-01\n",
            " 5.89424197e-01 3.74003730e-01 5.56689075e-01 3.20073316e-01\n",
            " 3.99063444e-01 3.94987029e-01 5.31220063e-01 4.82450109e-01\n",
            " 9.11799980e-01 1.97659498e-01 6.76692910e-01 2.50090085e-01\n",
            " 9.78999658e-01 7.29678248e-01 5.37419897e-01 5.64847599e-01\n",
            " 8.24660405e-01 3.24320013e-02 1.95109281e-01 1.12707337e-01\n",
            " 3.77949131e-01 8.89563828e-01 1.06783666e-01 8.37565874e-01\n",
            " 2.32726139e-01 1.29007795e-01 3.93365573e-01 8.24027976e-01\n",
            " 4.61765660e-01 6.06491127e-01 3.92180102e-01 4.78804027e-02\n",
            " 2.85848165e-02 9.41585804e-01 1.19149822e-01 4.84187219e-01\n",
            " 5.32724458e-01 7.11932713e-01 2.57824461e-01 2.14758202e-02\n",
            " 9.72340049e-01 5.87570367e-01 5.42709953e-01 6.93218047e-01\n",
            " 7.19416696e-01 1.65919190e-01 3.83978659e-03 8.80865483e-01\n",
            " 6.25249373e-01 9.34056559e-01 7.99916820e-01 1.08758700e-01\n",
            " 5.72466866e-01 7.38104793e-01 7.25903726e-01 6.18523370e-01\n",
            " 4.95866484e-01 5.92844442e-01 5.63550604e-02 9.39001249e-01\n",
            " 3.28789454e-01 1.01467961e-01 2.09140966e-01 1.77358790e-01\n",
            " 4.38241011e-01 4.30735794e-01 4.67104931e-01 9.83728953e-01\n",
            " 5.65078887e-01 4.39867156e-01 4.86359437e-01 1.87784744e-01\n",
            " 9.09893922e-02 5.08644593e-01 3.45791348e-01 8.89097455e-01\n",
            " 7.96918083e-01 7.60006224e-01 1.51328472e-01 6.76592591e-01\n",
            " 7.23191882e-01 6.48637368e-01 8.29786691e-01 1.58140427e-01\n",
            " 6.55994963e-01 5.17322698e-01 7.69398334e-01 9.49114749e-01\n",
            " 8.96885154e-01 8.01721766e-01 9.07857652e-01 5.13723265e-01\n",
            " 9.31469925e-01 4.18934235e-01 2.01219259e-06 9.75115359e-01\n",
            " 1.09206702e-01 6.70740815e-01 1.17888793e-02 7.66128698e-01\n",
            " 1.65230360e-01 9.48371482e-01 5.68407028e-01 3.33442925e-01\n",
            " 7.50342403e-01 7.20845433e-01 9.32545165e-01 2.18668591e-01\n",
            " 7.96435677e-01 6.01457651e-01 1.80811338e-01 5.90448278e-01\n",
            " 8.25279721e-01 5.84171322e-01 6.92130963e-01 1.99028774e-01\n",
            " 9.64870819e-01 7.38589443e-01 3.37528781e-01 7.11091676e-01\n",
            " 1.21102607e-02 4.87232640e-01 3.19232323e-01 9.37422715e-03\n",
            " 6.12362943e-01 1.05372381e-01 1.57461800e-01 8.44071304e-01\n",
            " 9.36291361e-01 2.41332095e-01 5.16219537e-01 4.35571259e-01\n",
            " 6.37488051e-01 7.31925533e-01 9.96770531e-01 1.60082928e-01\n",
            " 7.49981520e-01 4.78790179e-01 8.96957247e-01 7.48194317e-01\n",
            " 6.93585970e-01 9.95385690e-02 1.55841799e-01 2.53445868e-01\n",
            " 4.36200195e-01 1.50321597e-01 2.39925111e-01 7.52849579e-01\n",
            " 6.79655666e-01 1.92293053e-01 4.90392935e-01 9.70253452e-01\n",
            " 9.25958066e-01 4.33598408e-01 7.51911538e-01 5.01144416e-01\n",
            " 5.26389731e-01 5.20763853e-02 8.45127970e-01 4.95078303e-01\n",
            " 9.08680658e-01 8.28723952e-01 4.75808265e-01 8.51622947e-01\n",
            " 6.96097209e-01 6.96896678e-01 9.80013364e-01 5.30367837e-01\n",
            " 8.26090060e-01 1.42477390e-02 3.15903482e-01 4.38825217e-01\n",
            " 3.86764132e-01 7.90986280e-01 9.36804375e-01 6.80370653e-01\n",
            " 2.77340611e-01 1.13333046e-01 1.66284300e-01 9.70109751e-01\n",
            " 3.21184890e-01 6.80572227e-01 8.38845260e-01 5.68327184e-01\n",
            " 7.79911325e-01 8.97340971e-01 5.64360185e-01 3.47140443e-01\n",
            " 7.30911856e-01 2.92882797e-01 2.32774080e-01 1.91314248e-01\n",
            " 4.04145093e-01 1.72806905e-01 6.10964153e-01 1.79004830e-02\n",
            " 2.49766959e-02 6.19371446e-01 5.20869875e-01 7.10558987e-01\n",
            " 2.23109184e-01 8.88049281e-01 3.00509038e-01 2.74224192e-01\n",
            " 3.54057091e-01 6.47281617e-01 9.56726381e-01 3.34501130e-01\n",
            " 5.23740679e-01 3.79419247e-01 9.51244596e-01 5.35052546e-01\n",
            " 3.03352896e-01 1.00310742e-01 4.89025665e-01 9.20965409e-02\n",
            " 9.61502531e-01 1.05954225e-01 7.82497648e-02 8.92354635e-01\n",
            " 6.34617917e-02 3.18674817e-01 4.20232730e-02 2.27412116e-01\n",
            " 4.11359987e-01 2.62433367e-01 2.01637674e-01 1.18864165e-01\n",
            " 1.67767564e-01 6.17559591e-02 9.46097029e-01 9.20960427e-01\n",
            " 9.20677960e-01 1.18065619e-01 5.93228947e-01 9.07242816e-01\n",
            " 5.28338633e-01 3.54203625e-01 5.07970292e-01 3.46737975e-01\n",
            " 7.01105180e-01 3.52253196e-01 1.15799075e-01 7.71584596e-01\n",
            " 8.42776840e-01 1.86593157e-01 5.90098686e-02 9.50245671e-01\n",
            " 4.72782072e-03 6.20319720e-01 7.38530795e-01 8.89692644e-01\n",
            " 4.84960646e-01 6.27223529e-01 7.33318234e-01 5.75016004e-01\n",
            " 9.58577066e-01 1.82112506e-01 9.30864868e-01 7.08346683e-01\n",
            " 4.79407097e-01 4.08990769e-01 5.87873401e-02 6.08118796e-01\n",
            " 1.91155764e-01 3.93319410e-02 7.91258912e-01 9.88874322e-01\n",
            " 1.51137589e-01 5.40457833e-01 8.78480873e-01 5.77439437e-02\n",
            " 3.07236004e-01 7.85990288e-01 6.91444628e-01 4.45969881e-01\n",
            " 6.66810480e-01 9.45135309e-01 9.64217198e-01 8.43422984e-01\n",
            " 4.53819737e-01 4.15615683e-01 5.31073118e-01 3.55892741e-01\n",
            " 5.30438519e-01 2.33588174e-01 7.56178675e-01 2.53633374e-01\n",
            " 7.82981251e-01 4.57611938e-02 1.14565623e-01 2.28545271e-01\n",
            " 1.41507090e-01 6.92409105e-01 4.49240093e-01 8.25308866e-01\n",
            " 1.26740940e-02 6.85833254e-01 6.77513897e-01 3.53994635e-01\n",
            " 3.22113970e-01 3.37716868e-01 9.35257806e-01 9.06814789e-01\n",
            " 5.49107330e-01 6.89362392e-01 9.52427067e-01 7.78097037e-01\n",
            " 4.50254785e-01 2.24243253e-01 6.77322190e-01 2.31931336e-01\n",
            " 2.18975073e-01 2.42656972e-01 4.12080782e-01 5.10081461e-01\n",
            " 2.72605940e-01 1.84757361e-01 4.30062636e-01 6.50534712e-01\n",
            " 9.56655495e-02 9.38674108e-01 3.63972098e-01 6.53575193e-01\n",
            " 6.58416570e-01 5.70183006e-03 4.91828621e-01 2.04230013e-01\n",
            " 3.91132422e-01 8.35869983e-01 2.82375012e-01 8.18465578e-01\n",
            " 6.86906091e-01 8.01914759e-01 6.31701568e-01 4.04032193e-01\n",
            " 2.72333353e-01 8.22064274e-01 9.23138672e-01 1.87075180e-01\n",
            " 8.32429396e-01 3.71937683e-01 9.44613657e-01 8.92595911e-01\n",
            " 9.47601981e-01 6.14268595e-01 7.30591925e-02 5.12275967e-01\n",
            " 5.30914687e-01 7.93794062e-01 7.23156824e-01 2.14413029e-01\n",
            " 7.80881488e-01 9.83290019e-01 3.67000462e-01 2.72457114e-01\n",
            " 2.76529400e-01 7.28158369e-01 2.43104758e-01 5.05057227e-01\n",
            " 8.23214883e-01 8.80877466e-01 1.98072531e-01 7.00317909e-01\n",
            " 7.33338980e-02 7.73217214e-01 2.20906623e-01 7.84433385e-01\n",
            " 3.88486677e-01 1.85666328e-01 2.43657332e-01 2.52449933e-01\n",
            " 2.58335853e-01 9.91843188e-01 5.14648350e-01 1.79249531e-01\n",
            " 9.06410004e-01 3.91055090e-01 9.56490666e-01 3.39063269e-01\n",
            " 5.01790307e-01 2.36142481e-01 3.17051468e-01 8.67310240e-01\n",
            " 1.39302988e-01 7.47126949e-01 1.57032240e-02 3.88781754e-01\n",
            " 9.64293653e-01 9.69388123e-02 4.88022257e-01 5.82201936e-02\n",
            " 1.44685104e-01 2.35137065e-01 6.68588732e-02 1.76290676e-01\n",
            " 2.68021873e-01 4.76228994e-01 5.95746702e-01 5.12153191e-01\n",
            " 6.01453623e-01 2.47849155e-01 2.26875689e-01 9.81389456e-01\n",
            " 6.13359519e-01 7.93191691e-01 3.53534778e-01 5.10311171e-02\n",
            " 2.48749562e-01 1.98005511e-01 8.47095050e-01 3.96921026e-01\n",
            " 4.54991682e-01 7.68262832e-01 3.71157384e-01 5.69987652e-01\n",
            " 1.64459697e-01 8.09538190e-02 2.69138284e-01 2.95072638e-01\n",
            " 9.61920411e-01 1.61092353e-01 8.13406422e-01 7.21244924e-02\n",
            " 3.20902294e-01 2.90837140e-01 8.23099060e-01 5.93615932e-01\n",
            " 7.97551868e-01 8.79514151e-01 3.63203538e-01 2.12198268e-01\n",
            " 9.95192066e-01 7.73996999e-01 9.49096687e-01 7.44485139e-01\n",
            " 7.62180593e-01 7.36526583e-01 3.51704331e-01 2.54590184e-01\n",
            " 6.13975004e-01 9.72351298e-01 3.01209135e-01 2.38978177e-01\n",
            " 9.57099819e-01 5.51991804e-01 9.88959584e-01 8.53883070e-01\n",
            " 4.15448674e-01 8.83532641e-01 1.37617607e-01 2.13999377e-01\n",
            " 4.20928804e-01 4.51854695e-01 8.37291831e-01 1.58395604e-01\n",
            " 2.39537416e-01 2.53345629e-02 9.15621073e-02 5.52722724e-02]\n"
          ]
        }
      ]
    },
    {
      "cell_type": "code",
      "source": [
        "import matplotlib.pyplot as plt\n",
        "plt.hist(x ,bins=100)\n",
        "plt.show()\n",
        "\n"
      ],
      "metadata": {
        "colab": {
          "base_uri": "https://localhost:8080/",
          "height": 430
        },
        "id": "70AgGMUo4IKW",
        "outputId": "c3372d07-4c0f-469d-865e-e1e51464e2ba"
      },
      "execution_count": null,
      "outputs": [
        {
          "output_type": "display_data",
          "data": {
            "text/plain": [
              "<Figure size 640x480 with 1 Axes>"
            ],
            "image/png": "[encoded data removed]"
          },
          "metadata": {}
        }
      ]
    },
    {
      "cell_type": "code",
      "source": [
        "q=np.random.randn(1000) # uniform randomness to Gaussian brilliance.\n",
        "print(q)"
      ],
      "metadata": {
        "colab": {
          "base_uri": "https://localhost:8080/"
        },
        "id": "zMErGC1d5l6l",
        "outputId": "a38ea25e-f3f5-4dba-cb7a-65df98d59315"
      },
      "execution_count": null,
      "outputs": [
        {
          "output_type": "stream",
          "name": "stdout",
          "text": [
            "[-2.22637306e-01  1.28430225e-01  3.25864512e-01 -2.30937047e-01\n",
            " -4.40256465e-01  6.51995009e-01  6.16756539e-02 -9.47511640e-01\n",
            " -2.23126437e-01  1.90431749e-01  9.64779672e-01 -1.99457827e+00\n",
            " -1.23299325e+00  7.34768407e-01  6.77484784e-01  7.89819681e-01\n",
            " -6.03447391e-01 -8.49338424e-01  7.23526687e-01 -2.87793648e-02\n",
            "  9.04036960e-01 -2.10891010e+00 -7.09706565e-01 -6.36296084e-01\n",
            "  1.36900547e+00  9.05744519e-01  1.85627444e+00  5.92571737e-01\n",
            " -1.47403997e+00 -2.26278663e-01 -1.90352479e-01  1.01029922e+00\n",
            " -1.55856344e+00 -7.35477336e-01  8.97351479e-01  2.22351452e-01\n",
            " -1.74007837e+00  4.04437859e-01 -2.14255137e-01 -7.94765803e-01\n",
            "  6.95217420e-01  5.76944010e-01 -1.32608912e+00 -1.73374298e-01\n",
            "  2.22013128e-01 -7.68161447e-01  9.69518712e-01 -3.35057583e-01\n",
            "  1.74347340e+00  2.45057797e+00  5.92206561e-01 -1.17110344e+00\n",
            " -9.46806295e-01  7.47072923e-01  6.07207464e-01 -8.08053365e-01\n",
            " -1.68873555e+00 -1.45004826e-01 -1.36126481e+00 -8.60796576e-01\n",
            " -1.13035390e+00 -5.94116678e-01 -3.96637112e-01  2.27186500e-03\n",
            " -1.63941815e+00 -1.05697905e-01 -8.06336800e-01  5.77817441e-02\n",
            " -7.63745773e-01 -2.13692481e-01 -2.34841108e-01  1.93589179e-01\n",
            "  9.15228709e-01 -2.52809223e+00  2.04430708e+00 -1.15238862e+00\n",
            "  8.26614887e-01  7.89352014e-01 -5.07854770e-01  8.40492631e-01\n",
            " -8.40749924e-01 -3.61066351e-01  9.25878208e-01 -1.00321848e+00\n",
            "  2.08330741e-01 -1.88930140e+00  5.83635740e-01  7.39766192e-01\n",
            " -1.28260056e-01 -4.69442878e-01  8.21295594e-01 -1.44852743e+00\n",
            "  7.73325963e-01 -2.89263273e-01  1.99715001e+00  6.26595192e-02\n",
            "  1.13465762e+00  2.11065793e-01 -4.20439114e-01 -6.71650009e-01\n",
            " -1.86107950e-01 -5.87011961e-01 -5.79462186e-01 -8.03003736e-01\n",
            "  5.64352488e-01  9.41194934e-01  1.79583736e-01  6.22426569e-02\n",
            " -3.33644652e+00  1.01162556e+00  5.50995816e-01 -4.09676106e-01\n",
            "  7.11772354e-01 -6.32106891e-01 -4.42048256e-01  1.45396628e+00\n",
            "  7.44191762e-01 -1.99681577e-01 -1.29306736e+00  7.94531424e-01\n",
            " -1.08254949e+00  1.02901296e+00  4.35730771e-01 -9.42363750e-01\n",
            "  5.25277913e-01  1.39126478e+00 -6.97780907e-01 -1.24026916e+00\n",
            "  1.87246714e+00  4.54461354e-01 -1.47073901e-01 -4.26216083e-01\n",
            "  1.05987310e-01 -1.73387665e+00 -1.31385411e+00  1.29710226e+00\n",
            " -2.43115146e-01  2.83797137e-01 -2.14187609e-01 -1.21543943e+00\n",
            "  2.00781259e+00  6.16518874e-01 -6.23549845e-01 -5.09032260e-01\n",
            " -8.46251747e-01  8.03612827e-01  9.47035557e-01 -7.28079177e-01\n",
            "  3.76147101e-01 -4.56212695e-01  1.40618138e+00 -1.05986759e-01\n",
            " -3.14063238e-01 -6.30568374e-01 -1.46288293e+00  9.79059968e-01\n",
            " -3.69676793e-01 -4.65073584e-01 -1.01758310e-01 -1.33317014e-01\n",
            "  5.81728470e-01  3.87132155e-01 -9.09144608e-01 -8.18853753e-02\n",
            " -1.05890891e-01  7.59256590e-01  5.41820268e-01  7.18103180e-02\n",
            " -1.07484732e+00 -6.33558249e-01 -1.84218893e+00 -1.78918261e+00\n",
            " -5.41436508e-01  2.87685889e-01  4.86595032e-01  8.03391591e-01\n",
            " -6.49704109e-01  5.26331221e-02  1.21754680e+00  4.81863649e-01\n",
            " -8.11366174e-02  3.39770416e+00  4.82235209e-01 -4.65485044e-01\n",
            " -1.38916693e+00 -3.87179744e-01 -1.20111794e-01  6.52793660e-01\n",
            " -9.87510756e-01 -3.06757866e-01 -1.23281644e+00 -9.79431367e-01\n",
            " -2.63964747e-02  9.94973448e-02  1.77237526e-02  1.87533908e+00\n",
            " -6.50266547e-01 -7.61741205e-01 -1.10910113e+00 -1.68404824e+00\n",
            " -9.24039795e-02  1.60730843e-01  1.37366087e-01  2.88708100e-01\n",
            " -7.00364896e-01 -8.73130419e-02 -8.47032797e-01 -7.20367068e-01\n",
            "  1.86003724e+00  1.55566983e+00  1.48683469e-01 -7.08376181e-01\n",
            " -4.23807641e-02  8.73273289e-01 -2.20111967e-01 -5.49887781e-01\n",
            "  7.90395546e-01  3.77945168e-01 -4.34383088e-02 -5.17151100e-01\n",
            " -2.98981386e+00 -1.60619904e+00 -5.11642515e-02  7.94156717e-01\n",
            "  1.22538890e+00 -2.49807841e-02 -3.91298287e-02 -8.18583136e-01\n",
            "  1.45158943e+00  3.46399123e-01 -6.47588906e-01  9.08409344e-01\n",
            " -5.97561745e-01 -1.76679294e+00 -8.37540831e-01  6.93641938e-01\n",
            " -1.01033867e+00 -1.22864570e+00  5.76514068e-01 -6.11397498e-02\n",
            " -1.56426016e+00  1.14978856e+00 -6.76947741e-01 -1.06903003e-01\n",
            " -6.36414940e-02  7.86454421e-02 -2.82638191e+00 -2.00200016e-01\n",
            " -1.25294598e+00  6.71965795e-01  1.50403427e+00  5.97647449e-01\n",
            "  3.27424045e-01 -6.12881568e-01 -9.93905940e-01  2.12242455e-01\n",
            "  1.51858540e+00 -4.20212821e-01 -1.63220365e+00  9.45327258e-01\n",
            " -5.50845807e-01  4.50521959e-01  4.28003615e-01  4.66707587e-01\n",
            "  6.93542604e-01  1.11572747e+00 -3.20040375e-01 -7.46623379e-04\n",
            "  5.65368805e-01 -5.44678578e-01  3.20680536e-02 -4.37707368e-02\n",
            " -7.78818229e-01 -6.68220841e-01 -1.07066179e-02 -2.43249034e-02\n",
            " -5.86441826e-02 -3.20920353e-01  1.38049336e+00 -7.13864642e-01\n",
            " -1.45788458e+00 -7.04315600e-01 -7.01961957e-01 -7.35240283e-01\n",
            "  2.14362275e+00  3.33726382e-01 -1.77247233e-01 -1.16579343e+00\n",
            " -3.56104167e-01  8.69544055e-01  2.67388653e-01 -6.54282323e-01\n",
            " -5.64397426e-01  2.15737203e+00  4.11295478e-01 -1.28177373e+00\n",
            "  5.25902424e-01 -1.29732087e+00  1.08388482e+00  1.57754137e+00\n",
            "  6.52792089e-02 -7.43848406e-02  1.98247174e+00  4.92618477e-01\n",
            " -1.67633958e+00  1.45539639e-01  4.93291725e-01 -9.58057567e-01\n",
            "  1.15356803e+00  2.45217294e-01 -7.84689966e-01 -1.83279870e+00\n",
            "  9.11800173e-01 -8.16262424e-01 -5.32316425e-01 -1.19446086e+00\n",
            " -1.01777140e+00 -7.78934415e-01 -5.69217421e-01 -3.02014386e-01\n",
            "  9.35352100e-01  9.46047047e-01  3.79392689e-01 -3.63415028e-01\n",
            " -3.07727765e-01 -6.60293993e-02  1.42017199e+00  4.97921674e-01\n",
            "  2.41990169e-01  1.73319140e+00  1.65474881e+00  1.15115042e-01\n",
            " -4.55449520e-01  1.31125007e-01  2.06112459e+00 -1.05888180e+00\n",
            " -7.57913988e-01 -1.76742224e+00  4.68005279e-01 -4.31406720e-01\n",
            "  9.38992701e-01  8.58074815e-01 -4.84639936e-01 -1.51470853e+00\n",
            " -1.09203954e+00 -2.40496659e-01 -3.19267103e-01 -1.24889840e+00\n",
            "  5.83680275e-01  1.42394132e+00  1.20083536e-01 -1.07452333e+00\n",
            "  2.68833789e-01  1.72835355e+00  1.16132645e+00  4.02603710e-01\n",
            " -1.40438836e+00 -1.66259855e+00  2.09291106e+00 -9.53618062e-02\n",
            " -2.37956027e-01  4.18968821e-01  9.38460726e-01 -8.03225023e-01\n",
            "  2.48309126e+00  4.44502079e-01  8.17094478e-01 -7.62741488e-01\n",
            " -1.11670152e+00  1.13127356e+00 -4.40612070e-02  5.79337645e-01\n",
            " -8.59662387e-02  4.47270893e-02 -5.01966609e-01  5.99247168e-01\n",
            "  2.14579635e-02 -1.31236131e+00  9.86681877e-01 -2.37332492e-01\n",
            " -1.24803580e+00 -6.31913368e-01  8.26145133e-01  1.80575156e+00\n",
            "  1.68025616e-02  1.91131727e+00 -8.21629895e-01  1.16660984e-01\n",
            "  6.72417253e-01 -4.65740010e-01 -5.68947475e-01 -1.01982999e+00\n",
            "  4.95108644e-01 -1.25600971e+00 -4.71048214e-01  6.69882920e-01\n",
            "  1.99396649e-01  3.46704390e-01  2.80221834e-01 -1.50363709e+00\n",
            "  4.23631183e-01  1.48538008e+00 -1.20365500e+00  8.35430750e-01\n",
            "  6.07779094e-01  4.26669416e-01 -6.64509870e-01 -2.67532292e-01\n",
            " -8.68012208e-01  8.52380379e-02 -7.71455986e-01 -9.67967829e-01\n",
            "  9.93462133e-02 -1.59766563e-02 -6.64846038e-01 -1.40283131e-01\n",
            "  6.78499854e-01 -3.10473961e-01  1.05410437e+00 -7.01171775e-01\n",
            "  1.38393805e+00 -1.77050921e+00 -9.58930167e-01  5.44013766e-01\n",
            "  2.30243288e-02  3.80241439e-01 -2.77200884e-02  8.76458318e-02\n",
            " -1.02159716e+00  1.67204109e+00  8.41900103e-02 -4.35107729e-01\n",
            " -5.44423355e-01  3.38888963e-01  3.42086494e-01 -3.63595839e-01\n",
            "  1.13495473e-01  5.12770649e-01  6.18370625e-01  1.40457946e+00\n",
            "  2.19636786e+00 -4.73835500e-01  7.83138203e-01  1.28766156e+00\n",
            " -1.06301065e+00 -9.31447594e-01  3.86796614e-01  1.68068579e-02\n",
            "  1.00090694e+00  6.77379457e-01  2.65662069e-01 -1.62402270e+00\n",
            "  5.80889678e-01  7.68256841e-01  5.67664395e-01  2.29232525e+00\n",
            "  1.17281215e+00 -1.12887322e+00 -4.00692739e-01  5.77406435e-02\n",
            " -3.14119238e-01  6.01063965e-01  1.35901991e+00  2.33510532e-01\n",
            "  1.21501197e-01  3.51709844e-01  9.19946689e-01  3.05575897e-01\n",
            "  5.51334454e-01 -1.71938798e+00  2.00153070e-01 -5.82630105e-03\n",
            " -6.29007103e-01 -8.20724698e-01 -1.93861732e-01  1.40603553e+00\n",
            " -2.73986283e-01 -7.12724406e-01  1.47136269e+00  2.11619273e-01\n",
            "  4.60724853e-01 -8.72076242e-01  1.26874833e+00  2.72941977e-02\n",
            " -7.20819663e-01 -8.72983426e-01  1.25828333e-01  1.70675168e+00\n",
            " -1.34327555e+00  6.37765785e-01  1.64121772e-01 -1.07785540e+00\n",
            "  1.28658502e+00  1.50209672e-01  9.79139214e-01 -2.63790198e-02\n",
            " -6.23171536e-01  3.02689520e-01 -9.11662155e-01  5.77664261e-01\n",
            " -6.93307722e-01 -5.72387818e-01 -2.49889022e+00  2.30724117e+00\n",
            " -1.08541212e-02  1.18397312e+00  4.20256460e-01 -2.71008123e+00\n",
            "  4.30462828e-01  1.16549009e+00  2.64767573e+00  5.11196308e-01\n",
            "  5.65550807e-01 -1.99325726e+00 -6.77452362e-01 -1.04714484e+00\n",
            " -7.00980368e-01  5.50781925e-01  2.03379584e+00 -5.06384669e-01\n",
            " -1.74438740e-01 -4.73241100e-01 -1.77170157e-02  1.10162958e+00\n",
            "  4.25013023e-01  2.53100784e-01 -7.46686563e-01  1.72131996e+00\n",
            "  5.84205277e-01  4.44280410e-01 -1.91103820e+00  7.56707774e-02\n",
            "  9.78057629e-01  5.24637470e-01 -7.02215263e-01 -2.89270820e-01\n",
            "  3.59983463e-01 -8.26301168e-01  1.06767169e+00  1.96059198e-01\n",
            " -6.57692904e-01 -9.31853086e-01  3.56985866e-01 -6.48536049e-01\n",
            " -9.62288832e-01 -1.01947730e+00 -7.13923447e-01  6.51342659e-01\n",
            " -6.87868241e-01  1.06463486e+00 -1.35048549e+00  2.85661140e-01\n",
            "  6.25116884e-01 -3.15280233e-01 -2.76102957e-01 -1.53553947e-01\n",
            "  1.68274381e+00 -1.24855511e+00  1.17015637e+00 -2.94462915e+00\n",
            " -8.84422286e-01  1.49908724e+00  7.89852530e-02 -1.74928484e-02\n",
            " -1.24345374e+00 -2.64052875e-01 -2.01196975e-01  4.20844178e-01\n",
            "  2.71618620e-01  8.54984527e-01 -1.12625462e+00 -6.94925286e-01\n",
            "  1.96418876e+00  1.01564314e+00 -6.45430701e-01 -2.05450266e-01\n",
            "  1.79694878e+00 -1.63406168e-01  3.25250019e-01  8.69746874e-01\n",
            "  5.40602238e-01 -1.16775180e+00 -1.51820684e+00  2.34506483e-01\n",
            " -6.83513430e-01  7.96922405e-01  1.20198365e+00 -3.09164554e-01\n",
            " -7.58886161e-01  6.13246096e-01  6.70691597e-01  2.07599320e-01\n",
            " -2.99338595e-03 -5.72610123e-01 -6.02654120e-02  9.58931939e-01\n",
            " -7.15904206e-01  4.94633341e-01  1.00959514e+00 -1.19880270e+00\n",
            "  1.57464568e-01  9.69099280e-02 -1.07061623e+00 -1.95466962e-01\n",
            " -5.16691278e-01  3.22587262e-02 -1.05452227e-02 -4.42386513e-01\n",
            " -6.57981108e-01 -1.28039092e+00 -3.48763854e-01  1.02515954e+00\n",
            "  1.78231430e+00  6.97541326e-01  1.22843960e+00  2.04773635e-01\n",
            " -6.25267428e-01  1.44305632e+00  1.26818424e+00  1.59592445e-01\n",
            " -9.17038102e-02  1.42104026e+00 -1.55614943e+00 -7.17266304e-01\n",
            "  4.65300839e-01  1.53500095e+00  7.48948521e-02  1.27971354e+00\n",
            "  1.25549708e+00  5.62188135e-01  1.33314547e+00  2.35460485e+00\n",
            " -5.09710142e-01  3.45112497e+00  6.02783535e-01  3.74020346e-01\n",
            "  1.72967694e-01 -2.58275791e-01 -8.00305869e-01  1.12075106e-01\n",
            " -1.21862025e+00  1.41819195e+00  1.79840568e+00  3.33427725e-01\n",
            " -7.29149499e-01 -5.52547157e-01  6.26324266e-01 -1.43518442e+00\n",
            " -1.23665588e+00 -1.04653923e+00  4.00136177e-01 -3.43689431e-01\n",
            " -6.71557838e-01  5.29538729e-01  2.57118457e-02 -1.05491847e+00\n",
            " -8.89927479e-01 -1.85897996e+00  1.91013829e-01 -8.28399561e-01\n",
            " -4.82777004e-01 -3.39257340e-01  9.66796226e-01 -1.02978072e+00\n",
            "  3.43342570e-01  1.92054829e-01  1.26178192e-01 -8.52576411e-01\n",
            " -8.30773137e-01 -2.17945271e+00 -2.63658153e+00  3.81533241e-01\n",
            "  3.12558423e-01  9.79970342e-01 -1.02241216e-01  2.51041154e-01\n",
            "  1.32179541e-01  4.55895365e-02  3.11488423e-02 -1.25825232e+00\n",
            " -1.21823772e+00  3.16427740e-01  1.91926477e+00 -2.13058397e+00\n",
            " -1.91758320e+00  4.02216372e-01 -1.39720337e+00  1.42696802e+00\n",
            "  9.51919588e-01 -9.45527795e-01  8.29464578e-01 -4.47762783e-01\n",
            "  3.82300904e-01 -7.73727631e-01 -1.53232424e+00 -9.73220989e-01\n",
            "  6.24163294e-01 -1.35084482e+00 -1.06618779e+00 -5.07034264e-02\n",
            " -3.41007316e-01 -3.77193007e-01  5.32001675e-02 -2.78586010e-01\n",
            "  5.85647668e-01  6.68575563e-01 -1.67846971e-01  1.80921887e+00\n",
            " -1.10643226e+00  2.09112818e+00  9.24714276e-01  1.11698566e+00\n",
            " -1.74124539e-01 -1.91132802e+00 -1.03422853e+00 -1.23739311e+00\n",
            "  1.09620034e+00  9.81071050e-01  9.52189151e-02  1.33112731e+00\n",
            "  1.49613527e-01  1.06144786e+00 -1.62971107e+00 -4.85834975e-01\n",
            " -7.99372265e-01  7.00194393e-02  4.06724510e-02 -6.65545014e-01\n",
            " -3.28049002e-01 -2.16066528e-01 -3.38499814e-01  1.45249360e+00\n",
            "  4.41359368e-01 -1.39671932e+00 -4.30364238e-01  2.81044392e-01\n",
            " -5.74017474e-01 -2.52774945e-01 -1.22960000e+00  9.91828566e-01\n",
            " -7.32672360e-01 -6.67146700e-01  2.56089800e+00  1.51297322e+00\n",
            "  7.28130543e-01  4.39990842e-01 -1.59833978e-01  5.91164827e-02\n",
            "  4.59851245e-01  1.42559029e-01 -1.65832586e+00 -9.08204849e-01\n",
            " -1.45271519e+00  8.71943669e-01 -4.95813095e-01  1.13201923e+00\n",
            " -3.97232827e-01 -5.35540040e-01 -4.21493160e-01 -3.07506567e-01\n",
            " -6.43716692e-01  1.22839216e+00 -2.53459504e-01 -9.72991387e-01\n",
            "  9.87194841e-01 -1.38743451e+00 -2.03217506e-01 -7.05351285e-01\n",
            "  9.26860764e-01 -5.51024550e-01  1.86051146e-01 -4.51886645e-01\n",
            "  5.09275560e-01 -8.05894096e-02 -8.92906202e-01  1.01373211e+00\n",
            "  2.60093488e-01 -2.14884497e+00 -3.04655242e+00  6.19146805e-01\n",
            " -2.49255049e-01 -4.75977585e-01 -7.45022349e-01 -2.63780884e+00\n",
            " -2.55434404e-02  2.14617125e+00  1.32590036e+00 -3.27465911e-01\n",
            " -1.28875250e+00  1.33171001e+00  1.55071815e+00 -1.05434891e+00\n",
            " -2.74338120e-01 -1.42474599e-01  1.36972502e+00  1.08005757e+00\n",
            " -8.42895904e-01  7.95167200e-01 -6.63071629e-01 -2.17641857e-01\n",
            "  1.84225215e+00 -7.38399990e-01 -6.53128803e-01  1.95424896e-01\n",
            " -9.20473357e-01  6.49110739e-01  9.81109581e-01 -2.37797128e-02\n",
            " -3.31311325e-01  5.65334598e-02  1.18754971e+00  3.77906717e-01\n",
            " -6.57805737e-01  9.07598093e-02 -8.02253372e-01  1.07761700e+00\n",
            "  7.39510678e-01 -1.22626124e+00  1.31300510e+00 -8.85479802e-01\n",
            " -6.82716238e-01 -8.65671266e-01 -1.96782613e-01  1.78559616e-01\n",
            "  2.46757241e-01 -3.96063523e-01 -5.84442274e-01  1.60461407e+00\n",
            "  1.65317668e-01  2.09267283e+00 -1.29305237e+00 -6.33177028e-01\n",
            " -9.80807987e-01 -2.34314333e-01  3.88340806e-01  1.69227690e+00\n",
            "  3.66053554e-01 -4.30941996e-01  8.32035506e-01  7.84288307e-01\n",
            "  3.60279471e-01 -1.25925970e+00 -3.40189550e-01 -2.86769696e-01\n",
            " -5.50210922e-01 -1.03037099e+00  4.43399317e-01 -2.41661801e-01\n",
            "  1.23612648e+00 -2.14432218e-01  1.76104754e-01 -3.21262761e-01\n",
            "  1.16122065e+00 -1.46760334e+00  1.06076509e+00 -1.53752535e+00\n",
            "  8.50546781e-01  1.04691234e+00  3.04942435e-02  1.21848841e+00\n",
            "  1.23886778e+00 -1.00423456e+00 -8.79273858e-02 -1.24852720e+00\n",
            "  1.41575606e+00  9.81911283e-02  1.74235229e+00 -1.27378582e+00\n",
            " -6.20579158e-01 -2.36830359e-01 -1.21287533e-01 -2.10376439e-01\n",
            "  7.02889311e-02 -2.56767173e-01 -4.11620794e-01  3.33436162e-01\n",
            " -2.33856031e-01  5.57625142e-02  1.52322518e+00 -5.94124975e-01\n",
            " -3.22503842e-01  7.76626643e-02 -1.46284353e+00  8.68561270e-01\n",
            "  2.03602646e+00 -7.31688257e-01  2.03341129e-01  8.87198266e-01\n",
            " -1.50533545e-01 -3.76776435e-01 -1.48224208e+00  3.91933538e-01\n",
            " -3.27168581e-01  1.18400189e+00 -1.53918054e+00  2.07811157e+00\n",
            "  8.28207982e-01  1.22130642e-01  1.90005065e-01 -7.83935178e-01\n",
            "  5.18073914e-02  6.78267011e-01  3.52249075e+00 -1.06399124e+00\n",
            " -8.06405697e-01  2.32094894e-02 -1.38179307e+00 -1.90894490e-01\n",
            "  4.27329190e-03 -3.19239142e-01 -9.78036225e-02  5.11423840e-01\n",
            " -2.32103722e+00  1.01383359e+00 -1.25994178e+00 -1.54061396e+00\n",
            " -2.38967212e+00 -1.70092311e+00 -7.61029546e-01  6.25356669e-01\n",
            " -5.51470639e-01 -2.01093925e-01 -3.03429328e-02 -1.74740891e-01\n",
            "  9.17916354e-01 -3.75356812e-01  1.49898976e+00 -2.52162900e-01\n",
            " -1.33586346e-01 -1.69278804e-01  1.47787694e+00  1.76554884e+00\n",
            " -2.79631900e-01  7.24660701e-02 -1.55097199e+00  1.54241289e-01\n",
            " -2.36429999e+00  8.52463147e-01  7.18121086e-01 -4.34073415e-02\n",
            " -5.36258789e-01  6.07745891e-01  1.42759733e+00 -2.62415968e-01\n",
            " -5.79006930e-01  5.50915546e-01  1.92031116e-01  9.54524806e-01\n",
            " -1.23523006e+00 -7.38524298e-01  9.27709898e-01  6.25326138e-01\n",
            " -2.84531564e-02  1.22286297e-01  3.23318591e-01  1.96080721e-01\n",
            " -3.80779434e-01  1.35597585e+00 -6.94910607e-01 -1.86589937e-01\n",
            " -1.47729205e+00  1.15293753e+00 -6.48836908e-01  4.35024205e-01\n",
            "  1.46049841e+00 -9.23204090e-02  3.56395116e-01 -2.62152325e-01\n",
            "  2.52252749e+00 -2.50479313e+00  6.17751461e-01 -1.34002535e+00\n",
            "  3.91882692e-01 -8.15852172e-02 -2.32192877e+00  7.29970083e-01\n",
            " -8.36472885e-01  8.70329869e-02 -4.61460418e-01  1.87360302e-01\n",
            " -9.52378371e-01  1.27561728e+00  5.10727851e-01  1.22365230e+00\n",
            " -6.55169299e-01 -1.36698146e+00 -4.23947884e-01  9.57351732e-01\n",
            " -1.31744640e+00 -8.53365709e-02 -9.02578534e-01  2.14202688e+00\n",
            " -1.71373891e+00  1.11379010e+00 -8.13958009e-01 -7.83775384e-01\n",
            " -1.15188839e-02  1.61077159e-01 -9.00156019e-01  1.09160804e+00]\n"
          ]
        }
      ]
    },
    {
      "cell_type": "markdown",
      "source": [
        "# **Gaussian brilliance.**\n",
        "\n",
        " controlled randomness with real-world structure.\n",
        "\n",
        " It's structured unpredictability—the heartbeat of machine learning, signal processing, and intelligent design.\n",
        "\n",
        " Mean (μ) = 0\n",
        "\n",
        "Standard deviation (σ) = 1\n",
        "\n",
        "Bell-curve-shaped distribution"
      ],
      "metadata": {
        "id": "a0Pw-VSa6bTu"
      }
    },
    {
      "cell_type": "code",
      "source": [
        "plt.hist(q,bins=100)\n",
        "plt.show()"
      ],
      "metadata": {
        "colab": {
          "base_uri": "https://localhost:8080/",
          "height": 430
        },
        "id": "30xcWXNj5tut",
        "outputId": "02051c7c-7845-472a-c3c4-cc22caacbf44"
      },
      "execution_count": null,
      "outputs": [
        {
          "output_type": "display_data",
          "data": {
            "text/plain": [
              "<Figure size 640x480 with 1 Axes>"
            ],
            "image/png": "[encoded data removed]"
          },
          "metadata": {}
        }
      ]
    },
    {
      "cell_type": "code",
      "source": [
        "w=np.random.rand(2,3)  # two dimensional with 3 elemnets array we ccan create arrays randomly as well with using random functions\n",
        "w\n"
      ],
      "metadata": {
        "colab": {
          "base_uri": "https://localhost:8080/"
        },
        "id": "EoLsTF8g68uO",
        "outputId": "b937f701-75d8-4f9f-f2d9-03de396cb166"
      },
      "execution_count": null,
      "outputs": [
        {
          "output_type": "execute_result",
          "data": {
            "text/plain": [
              "array([[0.00139466, 0.29665161, 0.40991863],\n",
              "       [0.29411408, 0.13150336, 0.01841222]])"
            ]
          },
          "metadata": {},
          "execution_count": 24
        }
      ]
    },
    {
      "cell_type": "code",
      "source": [
        "w.ndim"
      ],
      "metadata": {
        "colab": {
          "base_uri": "https://localhost:8080/"
        },
        "id": "wcCXy0-n8FAy",
        "outputId": "4c4ec954-9b30-4e40-f9e2-2699d73781d8"
      },
      "execution_count": null,
      "outputs": [
        {
          "output_type": "execute_result",
          "data": {
            "text/plain": [
              "2"
            ]
          },
          "metadata": {},
          "execution_count": 25
        }
      ]
    },
    {
      "cell_type": "code",
      "source": [
        "e=np.random.rand(3,3,4)\n",
        "e"
      ],
      "metadata": {
        "colab": {
          "base_uri": "https://localhost:8080/"
        },
        "id": "xYWMSOg274OD",
        "outputId": "43a3041c-4969-4385-e567-72654b01d054"
      },
      "execution_count": null,
      "outputs": [
        {
          "output_type": "execute_result",
          "data": {
            "text/plain": [
              "array([[[0.02706275, 0.76657653, 0.85421488, 0.50270748],\n",
              "        [0.75619731, 0.82551345, 0.84222715, 0.57375855],\n",
              "        [0.02088576, 0.9901724 , 0.16121133, 0.38081796]],\n",
              "\n",
              "       [[0.6070526 , 0.20057036, 0.18053085, 0.03433813],\n",
              "        [0.92694821, 0.99014368, 0.22353303, 0.63254911],\n",
              "        [0.04536732, 0.31579152, 0.13807829, 0.38552871]],\n",
              "\n",
              "       [[0.22695328, 0.24442839, 0.656789  , 0.79373689],\n",
              "        [0.40484279, 0.092224  , 0.12911677, 0.43199369],\n",
              "        [0.89123154, 0.29826972, 0.89395979, 0.39015109]]])"
            ]
          },
          "metadata": {},
          "execution_count": 26
        }
      ]
    },
    {
      "cell_type": "code",
      "source": [
        "e.ndim"
      ],
      "metadata": {
        "colab": {
          "base_uri": "https://localhost:8080/"
        },
        "id": "kOGx3PpQ8CZa",
        "outputId": "e304414e-bd25-469f-f6f5-4a022837d19b"
      },
      "execution_count": null,
      "outputs": [
        {
          "output_type": "execute_result",
          "data": {
            "text/plain": [
              "3"
            ]
          },
          "metadata": {},
          "execution_count": 27
        }
      ]
    },
    {
      "cell_type": "code",
      "source": [
        "r=np.round(10*np.random.rand(2,3,4,2))\n",
        "r"
      ],
      "metadata": {
        "colab": {
          "base_uri": "https://localhost:8080/"
        },
        "id": "2d5_Tj5U8QfK",
        "outputId": "82c151d9-4ac7-4778-af33-3981d8872e86"
      },
      "execution_count": null,
      "outputs": [
        {
          "output_type": "execute_result",
          "data": {
            "text/plain": [
              "array([[[[ 7.,  8.],\n",
              "         [ 7.,  2.],\n",
              "         [ 2.,  4.],\n",
              "         [ 3.,  9.]],\n",
              "\n",
              "        [[ 7.,  0.],\n",
              "         [ 9.,  9.],\n",
              "         [ 3.,  7.],\n",
              "         [ 5.,  2.]],\n",
              "\n",
              "        [[ 2., 10.],\n",
              "         [ 4.,  5.],\n",
              "         [ 4.,  7.],\n",
              "         [ 9.,  5.]]],\n",
              "\n",
              "\n",
              "       [[[ 9.,  9.],\n",
              "         [ 2.,  4.],\n",
              "         [ 3.,  1.],\n",
              "         [ 1.,  2.]],\n",
              "\n",
              "        [[ 6.,  2.],\n",
              "         [ 5., 10.],\n",
              "         [ 1.,  4.],\n",
              "         [ 7.,  5.]],\n",
              "\n",
              "        [[ 8.,  8.],\n",
              "         [ 9.,  7.],\n",
              "         [ 7.,  6.],\n",
              "         [ 2.,  7.]]]])"
            ]
          },
          "metadata": {},
          "execution_count": 3
        }
      ]
    },
    {
      "cell_type": "markdown",
      "source": [
        "# **reshape**\n",
        "\n",
        " we can quickly create any any dimension of arrays"
      ],
      "metadata": {
        "id": "1OaIqx--_dUw"
      }
    },
    {
      "cell_type": "code",
      "source": [
        "#reshape  we can quickly create any any dimension of arrays\n",
        "\n",
        "t=np.arange(100).reshape(4,25)\n",
        "t"
      ],
      "metadata": {
        "colab": {
          "base_uri": "https://localhost:8080/"
        },
        "id": "3VBTD3fd9Pl6",
        "outputId": "7859890e-7c45-4df5-acc1-a2a1b67f8c17"
      },
      "execution_count": null,
      "outputs": [
        {
          "output_type": "execute_result",
          "data": {
            "text/plain": [
              "array([[ 0,  1,  2,  3,  4,  5,  6,  7,  8,  9, 10, 11, 12, 13, 14, 15,\n",
              "        16, 17, 18, 19, 20, 21, 22, 23, 24],\n",
              "       [25, 26, 27, 28, 29, 30, 31, 32, 33, 34, 35, 36, 37, 38, 39, 40,\n",
              "        41, 42, 43, 44, 45, 46, 47, 48, 49],\n",
              "       [50, 51, 52, 53, 54, 55, 56, 57, 58, 59, 60, 61, 62, 63, 64, 65,\n",
              "        66, 67, 68, 69, 70, 71, 72, 73, 74],\n",
              "       [75, 76, 77, 78, 79, 80, 81, 82, 83, 84, 85, 86, 87, 88, 89, 90,\n",
              "        91, 92, 93, 94, 95, 96, 97, 98, 99]])"
            ]
          },
          "metadata": {},
          "execution_count": 29
        }
      ]
    },
    {
      "cell_type": "code",
      "source": [
        "\n",
        "t=np.arange(100).reshape(10,10)\n",
        "t"
      ],
      "metadata": {
        "colab": {
          "base_uri": "https://localhost:8080/"
        },
        "id": "tz38d-MS-00I",
        "outputId": "73879b85-dee6-4354-8aca-5394e989eb4c"
      },
      "execution_count": null,
      "outputs": [
        {
          "output_type": "execute_result",
          "data": {
            "text/plain": [
              "array([[ 0,  1,  2,  3,  4,  5,  6,  7,  8,  9],\n",
              "       [10, 11, 12, 13, 14, 15, 16, 17, 18, 19],\n",
              "       [20, 21, 22, 23, 24, 25, 26, 27, 28, 29],\n",
              "       [30, 31, 32, 33, 34, 35, 36, 37, 38, 39],\n",
              "       [40, 41, 42, 43, 44, 45, 46, 47, 48, 49],\n",
              "       [50, 51, 52, 53, 54, 55, 56, 57, 58, 59],\n",
              "       [60, 61, 62, 63, 64, 65, 66, 67, 68, 69],\n",
              "       [70, 71, 72, 73, 74, 75, 76, 77, 78, 79],\n",
              "       [80, 81, 82, 83, 84, 85, 86, 87, 88, 89],\n",
              "       [90, 91, 92, 93, 94, 95, 96, 97, 98, 99]])"
            ]
          },
          "metadata": {},
          "execution_count": 30
        }
      ]
    },
    {
      "cell_type": "code",
      "source": [
        "\n",
        "t=np.arange(100).reshape(4,5,5)\n",
        "print(t)\n",
        "print(t.ndim)"
      ],
      "metadata": {
        "colab": {
          "base_uri": "https://localhost:8080/"
        },
        "id": "iikki5GV-4iY",
        "outputId": "e17341a2-7b19-44fc-b6f4-f16c374e37a5"
      },
      "execution_count": null,
      "outputs": [
        {
          "output_type": "stream",
          "name": "stdout",
          "text": [
            "[[[ 0  1  2  3  4]\n",
            "  [ 5  6  7  8  9]\n",
            "  [10 11 12 13 14]\n",
            "  [15 16 17 18 19]\n",
            "  [20 21 22 23 24]]\n",
            "\n",
            " [[25 26 27 28 29]\n",
            "  [30 31 32 33 34]\n",
            "  [35 36 37 38 39]\n",
            "  [40 41 42 43 44]\n",
            "  [45 46 47 48 49]]\n",
            "\n",
            " [[50 51 52 53 54]\n",
            "  [55 56 57 58 59]\n",
            "  [60 61 62 63 64]\n",
            "  [65 66 67 68 69]\n",
            "  [70 71 72 73 74]]\n",
            "\n",
            " [[75 76 77 78 79]\n",
            "  [80 81 82 83 84]\n",
            "  [85 86 87 88 89]\n",
            "  [90 91 92 93 94]\n",
            "  [95 96 97 98 99]]]\n",
            "3\n"
          ]
        }
      ]
    },
    {
      "cell_type": "code",
      "source": [
        "\n",
        "t=np.arange(100).reshape(2,2,5,5)\n",
        "print(t)\n",
        "print(t.ndim)"
      ],
      "metadata": {
        "colab": {
          "base_uri": "https://localhost:8080/"
        },
        "id": "RPE4dq6r_Atg",
        "outputId": "72616448-2616-4e90-da4a-152cbf04b0be"
      },
      "execution_count": null,
      "outputs": [
        {
          "output_type": "stream",
          "name": "stdout",
          "text": [
            "[[[[ 0  1  2  3  4]\n",
            "   [ 5  6  7  8  9]\n",
            "   [10 11 12 13 14]\n",
            "   [15 16 17 18 19]\n",
            "   [20 21 22 23 24]]\n",
            "\n",
            "  [[25 26 27 28 29]\n",
            "   [30 31 32 33 34]\n",
            "   [35 36 37 38 39]\n",
            "   [40 41 42 43 44]\n",
            "   [45 46 47 48 49]]]\n",
            "\n",
            "\n",
            " [[[50 51 52 53 54]\n",
            "   [55 56 57 58 59]\n",
            "   [60 61 62 63 64]\n",
            "   [65 66 67 68 69]\n",
            "   [70 71 72 73 74]]\n",
            "\n",
            "  [[75 76 77 78 79]\n",
            "   [80 81 82 83 84]\n",
            "   [85 86 87 88 89]\n",
            "   [90 91 92 93 94]\n",
            "   [95 96 97 98 99]]]]\n",
            "4\n"
          ]
        }
      ]
    },
    {
      "cell_type": "code",
      "source": [
        "t.shape\n"
      ],
      "metadata": {
        "colab": {
          "base_uri": "https://localhost:8080/"
        },
        "id": "1wn82wBP-HPD",
        "outputId": "12442c98-77ef-407e-d93c-27237b671320"
      },
      "execution_count": null,
      "outputs": [
        {
          "output_type": "execute_result",
          "data": {
            "text/plain": [
              "(2, 2, 5, 5)"
            ]
          },
          "metadata": {},
          "execution_count": 33
        }
      ]
    },
    {
      "cell_type": "code",
      "source": [
        "t.ndim"
      ],
      "metadata": {
        "colab": {
          "base_uri": "https://localhost:8080/"
        },
        "id": "j4WpIHLb-kvA",
        "outputId": "7762cc7b-9d86-400b-93bd-18e00d59b3bf"
      },
      "execution_count": null,
      "outputs": [
        {
          "output_type": "execute_result",
          "data": {
            "text/plain": [
              "4"
            ]
          },
          "metadata": {},
          "execution_count": 167
        }
      ]
    },
    {
      "cell_type": "markdown",
      "source": [
        "# **Slicing**"
      ],
      "metadata": {
        "id": "9_dOsaZpALgc"
      }
    },
    {
      "cell_type": "code",
      "source": [
        "y=np.arange(10)\n"
      ],
      "metadata": {
        "id": "u_cfDM_cAOdn"
      },
      "execution_count": null,
      "outputs": []
    },
    {
      "cell_type": "code",
      "source": [
        "b=y[3:10]\n",
        "print(b)"
      ],
      "metadata": {
        "colab": {
          "base_uri": "https://localhost:8080/"
        },
        "id": "osYY2PEJAUVv",
        "outputId": "e2906641-d34e-4450-c926-96b3320eb445"
      },
      "execution_count": null,
      "outputs": [
        {
          "output_type": "stream",
          "name": "stdout",
          "text": [
            "[3 4 5 6 7 8 9]\n"
          ]
        }
      ]
    },
    {
      "cell_type": "code",
      "source": [
        "b[0] =-1200  #modifying the element at 0th index with the -1200\n",
        "print(b)"
      ],
      "metadata": {
        "colab": {
          "base_uri": "https://localhost:8080/"
        },
        "id": "dmTfIeM8Av1_",
        "outputId": "666f27b7-5192-4440-f8ee-fc21d9622433"
      },
      "execution_count": null,
      "outputs": [
        {
          "output_type": "stream",
          "name": "stdout",
          "text": [
            "[-1200     4     5     6     7     8     9]\n"
          ]
        }
      ]
    },
    {
      "cell_type": "code",
      "source": [
        "y[::-1]"
      ],
      "metadata": {
        "colab": {
          "base_uri": "https://localhost:8080/"
        },
        "id": "4Us3RtwHAY34",
        "outputId": "aaaed6e3-6082-4374-d0fc-cb52fa220f68"
      },
      "execution_count": null,
      "outputs": [
        {
          "output_type": "execute_result",
          "data": {
            "text/plain": [
              "array([    9,     8,     7,     6,     5,     4, -1200,     2,     1,\n",
              "           0])"
            ]
          },
          "metadata": {},
          "execution_count": 37
        }
      ]
    },
    {
      "cell_type": "code",
      "source": [
        "y[1::2]"
      ],
      "metadata": {
        "colab": {
          "base_uri": "https://localhost:8080/"
        },
        "id": "DvxMio_zAdqP",
        "outputId": "f43308cc-7a2d-45b0-994b-4f2a8ab85204"
      },
      "execution_count": null,
      "outputs": [
        {
          "output_type": "execute_result",
          "data": {
            "text/plain": [
              "array([    1, -1200,     5,     7,     9])"
            ]
          },
          "metadata": {},
          "execution_count": 38
        }
      ]
    },
    {
      "cell_type": "code",
      "source": [
        "y[-8:-1:-2]"
      ],
      "metadata": {
        "colab": {
          "base_uri": "https://localhost:8080/"
        },
        "id": "wnASqe74AiHb",
        "outputId": "413fef57-6613-411c-c0fd-d665bcba512a"
      },
      "execution_count": null,
      "outputs": [
        {
          "output_type": "execute_result",
          "data": {
            "text/plain": [
              "array([], dtype=int64)"
            ]
          },
          "metadata": {},
          "execution_count": 39
        }
      ]
    },
    {
      "cell_type": "code",
      "source": [
        "b=y[3:10].copy()\n",
        "print(b)"
      ],
      "metadata": {
        "colab": {
          "base_uri": "https://localhost:8080/"
        },
        "id": "1TLtCL48AoO4",
        "outputId": "b4ed9ce1-3de7-4dba-d7c3-61354d559600"
      },
      "execution_count": null,
      "outputs": [
        {
          "output_type": "stream",
          "name": "stdout",
          "text": [
            "[-1200     4     5     6     7     8     9]\n"
          ]
        }
      ]
    },
    {
      "cell_type": "code",
      "source": [
        "b[0]=3\n",
        "print(b)"
      ],
      "metadata": {
        "colab": {
          "base_uri": "https://localhost:8080/"
        },
        "id": "hIHWeKN9BdWP",
        "outputId": "b1747ba3-0682-4a20-8f81-fcf756152caa"
      },
      "execution_count": null,
      "outputs": [
        {
          "output_type": "stream",
          "name": "stdout",
          "text": [
            "[3 4 5 6 7 8 9]\n"
          ]
        }
      ]
    },
    {
      "cell_type": "markdown",
      "source": [
        "np.argwhere() is a NumPy function used to find indices of elements in an array that meet a certain condition."
      ],
      "metadata": {
        "id": "WLVzk_awycEC"
      }
    },
    {
      "cell_type": "code",
      "source": [
        "\n",
        "A=np.arange(100)\n",
        "print(A)"
      ],
      "metadata": {
        "id": "TxNJPcThzDJp",
        "colab": {
          "base_uri": "https://localhost:8080/"
        },
        "outputId": "5f27b94a-20bd-4853-e601-db22db948ae2"
      },
      "execution_count": null,
      "outputs": [
        {
          "output_type": "stream",
          "name": "stdout",
          "text": [
            "[ 0  1  2  3  4  5  6  7  8  9 10 11 12 13 14 15 16 17 18 19 20 21 22 23\n",
            " 24 25 26 27 28 29 30 31 32 33 34 35 36 37 38 39 40 41 42 43 44 45 46 47\n",
            " 48 49 50 51 52 53 54 55 56 57 58 59 60 61 62 63 64 65 66 67 68 69 70 71\n",
            " 72 73 74 75 76 77 78 79 80 81 82 83 84 85 86 87 88 89 90 91 92 93 94 95\n",
            " 96 97 98 99]\n"
          ]
        }
      ]
    },
    {
      "cell_type": "code",
      "source": [
        "A=A[::-1]\n",
        "print(A)"
      ],
      "metadata": {
        "colab": {
          "base_uri": "https://localhost:8080/"
        },
        "id": "rlJ_YYXy8Bxg",
        "outputId": "6fa5cf32-fc23-449d-ffdf-fe2627683506"
      },
      "execution_count": null,
      "outputs": [
        {
          "output_type": "stream",
          "name": "stdout",
          "text": [
            "[99 98 97 96 95 94 93 92 91 90 89 88 87 86 85 84 83 82 81 80 79 78 77 76\n",
            " 75 74 73 72 71 70 69 68 67 66 65 64 63 62 61 60 59 58 57 56 55 54 53 52\n",
            " 51 50 49 48 47 46 45 44 43 42 41 40 39 38 37 36 35 34 33 32 31 30 29 28\n",
            " 27 26 25 24 23 22 21 20 19 18 17 16 15 14 13 12 11 10  9  8  7  6  5  4\n",
            "  3  2  1  0]\n"
          ]
        }
      ]
    },
    {
      "cell_type": "code",
      "source": [
        "idx=np.argwhere(A==3)[0][0] #to print the index of that particular number we use argwhere\n",
        "print(idx)"
      ],
      "metadata": {
        "colab": {
          "base_uri": "https://localhost:8080/"
        },
        "id": "HOSC-UD58UGk",
        "outputId": "74b2fe29-72b1-4450-87b2-0bb6236d9ec7"
      },
      "execution_count": null,
      "outputs": [
        {
          "output_type": "stream",
          "name": "stdout",
          "text": [
            "96\n"
          ]
        }
      ]
    },
    {
      "cell_type": "code",
      "source": [
        "A[idx]\n"
      ],
      "metadata": {
        "colab": {
          "base_uri": "https://localhost:8080/"
        },
        "id": "XsM7E6_y83qh",
        "outputId": "f7e49969-a1c0-402c-9ee2-6e4eec1e966c"
      },
      "execution_count": null,
      "outputs": [
        {
          "output_type": "execute_result",
          "data": {
            "text/plain": [
              "np.int64(3)"
            ]
          },
          "metadata": {},
          "execution_count": 16
        }
      ]
    },
    {
      "cell_type": "code",
      "source": [
        "\n",
        "\n",
        "a = np.round(10 * np.random.rand(3, 3))\n",
        "print(a)\n"
      ],
      "metadata": {
        "colab": {
          "base_uri": "https://localhost:8080/"
        },
        "id": "eVJDyE4KzFxh",
        "outputId": "d7db7651-4892-4def-88f0-dae00e0b65f1"
      },
      "execution_count": null,
      "outputs": [
        {
          "output_type": "stream",
          "name": "stdout",
          "text": [
            "[[ 3.  5.  2.]\n",
            " [ 0.  4.  1.]\n",
            " [10.  7.  0.]]\n"
          ]
        }
      ]
    },
    {
      "cell_type": "code",
      "source": [
        "a.sort(axis=0) # it sort each column automatically\n",
        "print(a)"
      ],
      "metadata": {
        "colab": {
          "base_uri": "https://localhost:8080/"
        },
        "id": "XFvVmzf-AeiE",
        "outputId": "a4a43b67-d87e-432d-d03d-ccb98367b072"
      },
      "execution_count": null,
      "outputs": [
        {
          "output_type": "stream",
          "name": "stdout",
          "text": [
            "[[ 0.  4.  0.]\n",
            " [ 3.  5.  1.]\n",
            " [10.  7.  2.]]\n"
          ]
        }
      ]
    },
    {
      "cell_type": "code",
      "source": [
        "a.sort(axis=1) # it sort each row in ascending order\n",
        "print(a)"
      ],
      "metadata": {
        "colab": {
          "base_uri": "https://localhost:8080/"
        },
        "id": "F2IySwq5IipI",
        "outputId": "ab6b3950-7e14-4eae-cb4e-7f087c4a7dad"
      },
      "execution_count": null,
      "outputs": [
        {
          "output_type": "stream",
          "name": "stdout",
          "text": [
            "[[ 0.  0.  4.]\n",
            " [ 1.  3.  5.]\n",
            " [ 2.  7. 10.]]\n"
          ]
        }
      ]
    },
    {
      "cell_type": "code",
      "source": [
        "A=np.where((A < 50))\n",
        "A"
      ],
      "metadata": {
        "colab": {
          "base_uri": "https://localhost:8080/"
        },
        "id": "koZx8M4RI1ae",
        "outputId": "0fe22f91-f128-41b6-e24b-3d57f8994edf"
      },
      "execution_count": null,
      "outputs": [
        {
          "output_type": "execute_result",
          "data": {
            "text/plain": [
              "(array([50, 51, 52, 53, 54, 55, 56, 57, 58, 59, 60, 61, 62, 63, 64, 65, 66,\n",
              "        67, 68, 69, 70, 71, 72, 73, 74, 75, 76, 77, 78, 79, 80, 81, 82, 83,\n",
              "        84, 85, 86, 87, 88, 89, 90, 91, 92, 93, 94, 95, 96, 97, 98, 99]),)"
            ]
          },
          "metadata": {},
          "execution_count": 37
        }
      ]
    },
    {
      "cell_type": "code",
      "source": [
        "a[1,:]"
      ],
      "metadata": {
        "colab": {
          "base_uri": "https://localhost:8080/"
        },
        "id": "O8ThuW8V-m3Q",
        "outputId": "6439bfab-c65f-4b64-c9ad-63b78c7ab7b8"
      },
      "execution_count": null,
      "outputs": [
        {
          "output_type": "execute_result",
          "data": {
            "text/plain": [
              "array([2., 3., 6.])"
            ]
          },
          "metadata": {},
          "execution_count": 18
        }
      ]
    },
    {
      "cell_type": "code",
      "source": [
        "a[:,1]"
      ],
      "metadata": {
        "colab": {
          "base_uri": "https://localhost:8080/"
        },
        "id": "XIkF6_b5-5wR",
        "outputId": "27f9b5e8-72a9-4842-b2bf-a065d2b3161b"
      },
      "execution_count": null,
      "outputs": [
        {
          "output_type": "execute_result",
          "data": {
            "text/plain": [
              "array([4., 3., 5.])"
            ]
          },
          "metadata": {},
          "execution_count": 19
        }
      ]
    },
    {
      "cell_type": "code",
      "source": [
        "import numpy.linalg as la   # linear algebra which we can use to get invers of the matrix\n",
        "la.inv(np.random.rand(3,3))"
      ],
      "metadata": {
        "colab": {
          "base_uri": "https://localhost:8080/"
        },
        "id": "zopYvMdA_eWh",
        "outputId": "135b5ef8-633a-400a-8b91-a78923274de1"
      },
      "execution_count": null,
      "outputs": [
        {
          "output_type": "execute_result",
          "data": {
            "text/plain": [
              "array([[ 2.70573256, -3.6670685 ,  1.05026414],\n",
              "       [ 0.0413375 , -2.57732677,  2.68498123],\n",
              "       [-0.24927499,  4.03849418, -1.55030615]])"
            ]
          },
          "metadata": {},
          "execution_count": 22
        }
      ]
    },
    {
      "cell_type": "code",
      "source": [
        "A=np.arange(100)\n",
        "A"
      ],
      "metadata": {
        "colab": {
          "base_uri": "https://localhost:8080/"
        },
        "id": "MDM4x7sG0ZxB",
        "outputId": "c99135e4-9c99-474d-8a88-1a94e1b18bcc"
      },
      "execution_count": null,
      "outputs": [
        {
          "output_type": "execute_result",
          "data": {
            "text/plain": [
              "array([ 0,  1,  2,  3,  4,  5,  6,  7,  8,  9, 10, 11, 12, 13, 14, 15, 16,\n",
              "       17, 18, 19, 20, 21, 22, 23, 24, 25, 26, 27, 28, 29, 30, 31, 32, 33,\n",
              "       34, 35, 36, 37, 38, 39, 40, 41, 42, 43, 44, 45, 46, 47, 48, 49, 50,\n",
              "       51, 52, 53, 54, 55, 56, 57, 58, 59, 60, 61, 62, 63, 64, 65, 66, 67,\n",
              "       68, 69, 70, 71, 72, 73, 74, 75, 76, 77, 78, 79, 80, 81, 82, 83, 84,\n",
              "       85, 86, 87, 88, 89, 90, 91, 92, 93, 94, 95, 96, 97, 98, 99])"
            ]
          },
          "metadata": {},
          "execution_count": 44
        }
      ]
    },
    {
      "cell_type": "code",
      "source": [
        "B=A[[3,4,5]]\n",
        "B"
      ],
      "metadata": {
        "colab": {
          "base_uri": "https://localhost:8080/"
        },
        "id": "-ygo86dq0ftx",
        "outputId": "2bd9adf8-a6b4-43b1-f9f6-f6e35737be54"
      },
      "execution_count": null,
      "outputs": [
        {
          "output_type": "execute_result",
          "data": {
            "text/plain": [
              "array([3, 4, 5])"
            ]
          },
          "metadata": {},
          "execution_count": 45
        }
      ]
    },
    {
      "cell_type": "code",
      "source": [
        "B[0]=-4"
      ],
      "metadata": {
        "id": "WZ1Qa9bF0mJh"
      },
      "execution_count": null,
      "outputs": []
    },
    {
      "cell_type": "code",
      "source": [
        "B"
      ],
      "metadata": {
        "colab": {
          "base_uri": "https://localhost:8080/"
        },
        "id": "6irnDcUd0qnZ",
        "outputId": "e7a2deb5-4b6a-470d-e7f5-d90c4bb83f92"
      },
      "execution_count": null,
      "outputs": [
        {
          "output_type": "execute_result",
          "data": {
            "text/plain": [
              "array([-4,  4,  5])"
            ]
          },
          "metadata": {},
          "execution_count": 47
        }
      ]
    },
    {
      "cell_type": "code",
      "source": [
        "B=A[A<40]\n",
        "B"
      ],
      "metadata": {
        "colab": {
          "base_uri": "https://localhost:8080/"
        },
        "id": "3LgLEiIo0skJ",
        "outputId": "d9b6562f-cf71-414f-f957-96c48ca2da4d"
      },
      "execution_count": null,
      "outputs": [
        {
          "output_type": "execute_result",
          "data": {
            "text/plain": [
              "array([ 0,  1,  2,  3,  4,  5,  6,  7,  8,  9, 10, 11, 12, 13, 14, 15, 16,\n",
              "       17, 18, 19, 20, 21, 22, 23, 24, 25, 26, 27, 28, 29, 30, 31, 32, 33,\n",
              "       34, 35, 36, 37, 38, 39])"
            ]
          },
          "metadata": {},
          "execution_count": 49
        }
      ]
    },
    {
      "cell_type": "code",
      "source": [
        "B=A[(A>40)&(A<80)]\n",
        "B"
      ],
      "metadata": {
        "colab": {
          "base_uri": "https://localhost:8080/"
        },
        "id": "PncdmQiD01hZ",
        "outputId": "b390fe80-d8b2-4fa1-c512-0f539a6ca07c"
      },
      "execution_count": null,
      "outputs": [
        {
          "output_type": "execute_result",
          "data": {
            "text/plain": [
              "array([41, 42, 43, 44, 45, 46, 47, 48, 49, 50, 51, 52, 53, 54, 55, 56, 57,\n",
              "       58, 59, 60, 61, 62, 63, 64, 65, 66, 67, 68, 69, 70, 71, 72, 73, 74,\n",
              "       75, 76, 77, 78, 79])"
            ]
          },
          "metadata": {},
          "execution_count": 52
        }
      ]
    },
    {
      "cell_type": "markdown",
      "source": [
        "& -> and\n",
        "\n",
        "| -> or\n",
        "\n",
        "~ -> not"
      ],
      "metadata": {
        "id": "0_CWmtBt1tpB"
      }
    },
    {
      "cell_type": "code",
      "source": [
        "B=A[(A>40)|(A>20)]\n",
        "B"
      ],
      "metadata": {
        "colab": {
          "base_uri": "https://localhost:8080/"
        },
        "id": "mMqIBLZv1RZh",
        "outputId": "1c4dfe5b-1acb-401b-c341-fb5d7ffbfa10"
      },
      "execution_count": null,
      "outputs": [
        {
          "output_type": "execute_result",
          "data": {
            "text/plain": [
              "array([21, 22, 23, 24, 25, 26, 27, 28, 29, 30, 31, 32, 33, 34, 35, 36, 37,\n",
              "       38, 39, 40, 41, 42, 43, 44, 45, 46, 47, 48, 49, 50, 51, 52, 53, 54,\n",
              "       55, 56, 57, 58, 59, 60, 61, 62, 63, 64, 65, 66, 67, 68, 69, 70, 71,\n",
              "       72, 73, 74, 75, 76, 77, 78, 79, 80, 81, 82, 83, 84, 85, 86, 87, 88,\n",
              "       89, 90, 91, 92, 93, 94, 95, 96, 97, 98, 99])"
            ]
          },
          "metadata": {},
          "execution_count": 54
        }
      ]
    },
    {
      "cell_type": "code",
      "source": [
        "B=A[~(A>25)]\n",
        "B"
      ],
      "metadata": {
        "colab": {
          "base_uri": "https://localhost:8080/"
        },
        "id": "rk_LI_AW1_g4",
        "outputId": "08876aff-14ee-48b9-a603-a2b83a77a31d"
      },
      "execution_count": null,
      "outputs": [
        {
          "output_type": "execute_result",
          "data": {
            "text/plain": [
              "array([ 0,  1,  2,  3,  4,  5,  6,  7,  8,  9, 10, 11, 12, 13, 14, 15, 16,\n",
              "       17, 18, 19, 20, 21, 22, 23, 24, 25])"
            ]
          },
          "metadata": {},
          "execution_count": 57
        }
      ]
    },
    {
      "cell_type": "code",
      "source": [
        "Q=np.round(10*np.random.rand(2,2))\n"
      ],
      "metadata": {
        "id": "OgrFuVW9251Y"
      },
      "execution_count": null,
      "outputs": []
    },
    {
      "cell_type": "code",
      "source": [
        "Q"
      ],
      "metadata": {
        "colab": {
          "base_uri": "https://localhost:8080/"
        },
        "id": "xb5RNJTi3FYo",
        "outputId": "6a57f017-76c8-45ec-b76c-971917eae1b9"
      },
      "execution_count": null,
      "outputs": [
        {
          "output_type": "execute_result",
          "data": {
            "text/plain": [
              "array([[4., 1., 5.],\n",
              "       [9., 4., 1.]])"
            ]
          },
          "metadata": {},
          "execution_count": 68
        }
      ]
    },
    {
      "cell_type": "code",
      "source": [
        "Q+5"
      ],
      "metadata": {
        "colab": {
          "base_uri": "https://localhost:8080/"
        },
        "id": "WacBQWBw3HZ5",
        "outputId": "e0c2bfb1-98f2-48d8-de0d-a3b119ba452d"
      },
      "execution_count": null,
      "outputs": [
        {
          "output_type": "execute_result",
          "data": {
            "text/plain": [
              "array([[ 9.,  6., 10.],\n",
              "       [14.,  9.,  6.]])"
            ]
          },
          "metadata": {},
          "execution_count": 69
        }
      ]
    },
    {
      "cell_type": "markdown",
      "source": [
        "numpy Boardcasting"
      ],
      "metadata": {
        "id": "55IvgwtZ3bYI"
      }
    },
    {
      "cell_type": "code",
      "source": [
        "Q+(np.arange(2).reshape(2,1))"
      ],
      "metadata": {
        "colab": {
          "base_uri": "https://localhost:8080/"
        },
        "id": "_ZbYeBKm3gX4",
        "outputId": "276d9d48-cde7-48a3-957a-e21eb4fed307"
      },
      "execution_count": null,
      "outputs": [
        {
          "output_type": "execute_result",
          "data": {
            "text/plain": [
              "array([[4., 6., 6.],\n",
              "       [2., 6., 9.]])"
            ]
          },
          "metadata": {},
          "execution_count": 33
        }
      ]
    },
    {
      "cell_type": "code",
      "source": [
        "W=np.round(10*np.random.rand(2,2))"
      ],
      "metadata": {
        "id": "FzBAd9P_5AMQ"
      },
      "execution_count": null,
      "outputs": []
    },
    {
      "cell_type": "code",
      "source": [
        "W"
      ],
      "metadata": {
        "colab": {
          "base_uri": "https://localhost:8080/"
        },
        "id": "8h6K_8eO5IOY",
        "outputId": "2442f56e-497a-426b-99d8-91fb0f9799cc"
      },
      "execution_count": null,
      "outputs": [
        {
          "output_type": "execute_result",
          "data": {
            "text/plain": [
              "array([[1., 7.],\n",
              "       [5., 5.]])"
            ]
          },
          "metadata": {},
          "execution_count": 77
        }
      ]
    },
    {
      "cell_type": "code",
      "source": [
        "Q"
      ],
      "metadata": {
        "colab": {
          "base_uri": "https://localhost:8080/"
        },
        "id": "TlaqqfLo5KrQ",
        "outputId": "4b211e4d-25f6-43a1-d4ed-79a9effdc0eb"
      },
      "execution_count": null,
      "outputs": [
        {
          "output_type": "execute_result",
          "data": {
            "text/plain": [
              "array([[2., 1.],\n",
              "       [9., 9.]])"
            ]
          },
          "metadata": {},
          "execution_count": 35
        }
      ]
    },
    {
      "cell_type": "code",
      "source": [
        "W"
      ],
      "metadata": {
        "colab": {
          "base_uri": "https://localhost:8080/"
        },
        "id": "U2Ofl-Ul5Omo",
        "outputId": "bd750015-1630-4fb7-989e-3be14eb9831e"
      },
      "execution_count": null,
      "outputs": [
        {
          "output_type": "execute_result",
          "data": {
            "text/plain": [
              "array([[10.,  9.],\n",
              "       [10.,  7.]])"
            ]
          },
          "metadata": {},
          "execution_count": 26
        }
      ]
    },
    {
      "cell_type": "code",
      "source": [
        "E=np.hstack((Q,W)) # concatenates the two matrix hstack"
      ],
      "metadata": {
        "id": "LED9gtzz5QGX"
      },
      "execution_count": null,
      "outputs": []
    },
    {
      "cell_type": "code",
      "source": [
        "E"
      ],
      "metadata": {
        "colab": {
          "base_uri": "https://localhost:8080/"
        },
        "id": "laLe2Vtv5Z-g",
        "outputId": "d1ec197d-a1c2-4a35-e2c0-fc39f1f121d7"
      },
      "execution_count": null,
      "outputs": [
        {
          "output_type": "execute_result",
          "data": {
            "text/plain": [
              "array([[ 4.,  6.,  6., 10.,  9.],\n",
              "       [ 1.,  5.,  8., 10.,  7.]])"
            ]
          },
          "metadata": {},
          "execution_count": 28
        }
      ]
    },
    {
      "cell_type": "code",
      "source": [
        "Z=np.vstack((Q,W))"
      ],
      "metadata": {
        "id": "yhaxqIFUpGvv"
      },
      "execution_count": null,
      "outputs": []
    },
    {
      "cell_type": "code",
      "source": [
        "Z"
      ],
      "metadata": {
        "colab": {
          "base_uri": "https://localhost:8080/"
        },
        "id": "-FlkFOzjpi0X",
        "outputId": "5e983713-a89f-48e2-cdfa-7153fab3e1dc"
      },
      "execution_count": null,
      "outputs": [
        {
          "output_type": "execute_result",
          "data": {
            "text/plain": [
              "array([[ 2.,  1.],\n",
              "       [ 9.,  9.],\n",
              "       [10.,  9.],\n",
              "       [10.,  7.]])"
            ]
          },
          "metadata": {},
          "execution_count": 37
        }
      ]
    },
    {
      "cell_type": "code",
      "source": [
        "R=np.random.permutation(10)\n",
        "R"
      ],
      "metadata": {
        "colab": {
          "base_uri": "https://localhost:8080/"
        },
        "id": "zG4Xio6a5p_Q",
        "outputId": "07ff947e-4288-41ee-d6a4-52e1b7c54dd5"
      },
      "execution_count": null,
      "outputs": [
        {
          "output_type": "execute_result",
          "data": {
            "text/plain": [
              "array([8, 7, 5, 1, 2, 0, 6, 3, 9, 4])"
            ]
          },
          "metadata": {},
          "execution_count": 8
        }
      ]
    },
    {
      "cell_type": "code",
      "source": [
        "R.sort() #sort  is used to arrange the values in a ascending order"
      ],
      "metadata": {
        "id": "r9AXhr685wag"
      },
      "execution_count": null,
      "outputs": []
    },
    {
      "cell_type": "code",
      "source": [
        "R"
      ],
      "metadata": {
        "colab": {
          "base_uri": "https://localhost:8080/"
        },
        "id": "F3I2icZO5yxX",
        "outputId": "b356390c-c6b7-4f71-a8cc-d1ffba613784"
      },
      "execution_count": null,
      "outputs": [
        {
          "output_type": "execute_result",
          "data": {
            "text/plain": [
              "array([0, 1, 2, 3, 4, 5, 6, 7, 8, 9])"
            ]
          },
          "metadata": {},
          "execution_count": 10
        }
      ]
    },
    {
      "cell_type": "code",
      "source": [
        "T=sorted(R,reverse=True)\n"
      ],
      "metadata": {
        "id": "I7w-_Qbf5-p_"
      },
      "execution_count": null,
      "outputs": []
    },
    {
      "cell_type": "code",
      "source": [
        "T"
      ],
      "metadata": {
        "colab": {
          "base_uri": "https://localhost:8080/"
        },
        "id": "23PCDRzB6ITg",
        "outputId": "ad82ce10-7821-44e2-e2de-ba3f74a2b8c9"
      },
      "execution_count": null,
      "outputs": [
        {
          "output_type": "execute_result",
          "data": {
            "text/plain": [
              "[np.int64(9),\n",
              " np.int64(8),\n",
              " np.int64(7),\n",
              " np.int64(6),\n",
              " np.int64(5),\n",
              " np.int64(4),\n",
              " np.int64(3),\n",
              " np.int64(2),\n",
              " np.int64(1),\n",
              " np.int64(0)]"
            ]
          },
          "metadata": {},
          "execution_count": 12
        }
      ]
    },
    {
      "cell_type": "code",
      "source": [
        "for i in T:\n",
        "  print(i)"
      ],
      "metadata": {
        "colab": {
          "base_uri": "https://localhost:8080/"
        },
        "id": "9ewDj6NX6WFf",
        "outputId": "d251f041-c4ee-4bc2-bc05-5ec524c767d8"
      },
      "execution_count": null,
      "outputs": [
        {
          "output_type": "stream",
          "name": "stdout",
          "text": [
            "9\n",
            "8\n",
            "7\n",
            "6\n",
            "5\n",
            "4\n",
            "3\n",
            "2\n",
            "1\n",
            "0\n"
          ]
        }
      ]
    },
    {
      "cell_type": "code",
      "source": [
        "A=np.round(10*np.random.rand(5,4,2,5,5))\n",
        "print(A)"
      ],
      "metadata": {
        "colab": {
          "base_uri": "https://localhost:8080/"
        },
        "id": "PcMiM7j96V_P",
        "outputId": "a45290c1-cf13-4213-f128-20535eeb5314"
      },
      "execution_count": null,
      "outputs": [
        {
          "output_type": "stream",
          "name": "stdout",
          "text": [
            "[[[[[ 8.  5.  1.  9.  1.]\n",
            "    [10.  4.  8.  0.  3.]\n",
            "    [ 6.  1.  3.  8.  4.]\n",
            "    [ 1.  6.  5.  6.  1.]\n",
            "    [ 0.  5.  1.  7.  6.]]\n",
            "\n",
            "   [[ 7.  3.  8.  3.  0.]\n",
            "    [ 2.  5. 10.  3.  2.]\n",
            "    [ 5.  6.  3.  2.  1.]\n",
            "    [ 1.  0.  5.  0.  0.]\n",
            "    [ 1.  7.  7.  5.  7.]]]\n",
            "\n",
            "\n",
            "  [[[ 4.  7.  2.  4.  6.]\n",
            "    [ 6.  8.  5.  7.  5.]\n",
            "    [ 5.  5.  8.  2.  3.]\n",
            "    [ 6.  6.  5.  4.  6.]\n",
            "    [ 5.  6.  5. 10.  6.]]\n",
            "\n",
            "   [[ 2.  4.  9.  2.  6.]\n",
            "    [ 3.  9.  9.  6.  9.]\n",
            "    [ 5.  1.  2.  7.  4.]\n",
            "    [ 2.  4.  2.  2.  3.]\n",
            "    [ 7.  8.  0.  5.  4.]]]\n",
            "\n",
            "\n",
            "  [[[ 2. 10.  2.  3.  1.]\n",
            "    [ 6.  1.  7.  9.  4.]\n",
            "    [ 2. 10.  8.  7.  7.]\n",
            "    [ 1.  0.  6.  6.  1.]\n",
            "    [ 9.  0.  8.  5. 10.]]\n",
            "\n",
            "   [[ 5.  8.  9.  8.  4.]\n",
            "    [ 2.  1.  6.  4.  8.]\n",
            "    [ 3.  8.  2.  4.  2.]\n",
            "    [10.  3.  4.  3.  5.]\n",
            "    [ 7.  4.  4.  3.  7.]]]\n",
            "\n",
            "\n",
            "  [[[ 8.  1.  2.  1.  4.]\n",
            "    [ 5.  3.  6.  3.  3.]\n",
            "    [ 0.  9.  5.  7.  6.]\n",
            "    [ 5.  3.  9.  9.  1.]\n",
            "    [ 5.  9.  2.  5.  8.]]\n",
            "\n",
            "   [[ 2.  4.  8.  1.  8.]\n",
            "    [ 7. 10.  0.  5.  7.]\n",
            "    [ 4.  9.  5.  3.  7.]\n",
            "    [ 4.  5.  3.  9.  5.]\n",
            "    [ 6.  5.  4.  9.  8.]]]]\n",
            "\n",
            "\n",
            "\n",
            " [[[[ 1.  7.  6.  1.  5.]\n",
            "    [ 8.  2.  7.  7.  4.]\n",
            "    [ 5.  5.  6.  6.  8.]\n",
            "    [ 7.  3.  4.  5.  4.]\n",
            "    [ 2.  6.  3.  5.  0.]]\n",
            "\n",
            "   [[ 8.  1.  2.  6.  3.]\n",
            "    [ 2.  1.  3.  8.  9.]\n",
            "    [ 4.  1.  3.  6.  8.]\n",
            "    [ 0.  5.  2.  5.  3.]\n",
            "    [ 8.  7.  3.  6.  1.]]]\n",
            "\n",
            "\n",
            "  [[[ 1.  0.  9. 10.  2.]\n",
            "    [ 8.  9.  9.  1.  9.]\n",
            "    [ 4.  4.  7.  3.  8.]\n",
            "    [ 1.  9.  5.  8.  1.]\n",
            "    [ 3.  4. 10.  8.  3.]]\n",
            "\n",
            "   [[ 3.  2.  4.  2.  6.]\n",
            "    [ 4.  5.  6.  9.  9.]\n",
            "    [ 7.  6.  1.  0.  9.]\n",
            "    [ 2.  9.  2.  9.  2.]\n",
            "    [10.  4.  7.  3.  5.]]]\n",
            "\n",
            "\n",
            "  [[[ 4.  8.  8.  4.  7.]\n",
            "    [ 8.  8.  3.  1.  6.]\n",
            "    [ 1.  4.  6.  3.  0.]\n",
            "    [ 4.  4.  2.  4.  2.]\n",
            "    [ 2. 10.  5.  5.  5.]]\n",
            "\n",
            "   [[ 1.  2.  2. 10.  8.]\n",
            "    [ 4.  3.  2. 10.  8.]\n",
            "    [ 1.  1.  1.  5.  6.]\n",
            "    [ 7.  5.  8.  4.  9.]\n",
            "    [ 7.  2.  5.  3.  9.]]]\n",
            "\n",
            "\n",
            "  [[[ 4.  8.  0.  8.  1.]\n",
            "    [ 2.  6.  5.  1.  7.]\n",
            "    [ 6.  4.  6.  3.  4.]\n",
            "    [ 6.  7.  6.  9.  4.]\n",
            "    [ 6.  1. 10.  6.  3.]]\n",
            "\n",
            "   [[ 2.  8.  9.  3.  3.]\n",
            "    [ 4.  5.  1.  1.  9.]\n",
            "    [ 1.  0.  2.  3.  1.]\n",
            "    [ 1.  6.  0.  6.  0.]\n",
            "    [ 6.  0.  7.  3.  5.]]]]\n",
            "\n",
            "\n",
            "\n",
            " [[[[ 1.  6.  0.  4.  5.]\n",
            "    [ 8.  6.  7.  4.  9.]\n",
            "    [ 9.  7.  8.  8.  4.]\n",
            "    [ 7. 10.  2.  5.  9.]\n",
            "    [ 5.  8.  1.  8.  5.]]\n",
            "\n",
            "   [[ 9.  8.  7.  9.  7.]\n",
            "    [ 4.  3.  8.  5.  1.]\n",
            "    [ 3.  6.  5.  2.  4.]\n",
            "    [ 9.  9.  9.  4.  9.]\n",
            "    [ 7.  3.  6.  9.  0.]]]\n",
            "\n",
            "\n",
            "  [[[ 2.  3.  7.  5.  8.]\n",
            "    [ 9.  2.  3.  6.  3.]\n",
            "    [ 4.  9. 10.  7. 10.]\n",
            "    [ 8.  8.  5.  8.  3.]\n",
            "    [ 7.  9.  3.  9.  7.]]\n",
            "\n",
            "   [[ 3.  7.  3.  9.  5.]\n",
            "    [ 8.  9.  1.  7.  7.]\n",
            "    [ 9.  7.  7.  7.  8.]\n",
            "    [ 3.  6.  4. 10.  5.]\n",
            "    [ 6.  4.  1.  2.  1.]]]\n",
            "\n",
            "\n",
            "  [[[ 1.  1.  7.  8. 10.]\n",
            "    [ 9.  5.  5.  5.  2.]\n",
            "    [ 2.  3.  1.  3.  5.]\n",
            "    [ 6.  6.  3. 10.  9.]\n",
            "    [ 5.  0.  3.  1.  3.]]\n",
            "\n",
            "   [[ 5. 10.  3. 10. 10.]\n",
            "    [ 6.  0.  1. 10.  3.]\n",
            "    [ 1.  7.  8.  1.  1.]\n",
            "    [ 4.  2.  9.  7.  1.]\n",
            "    [ 8.  9.  4. 10.  9.]]]\n",
            "\n",
            "\n",
            "  [[[ 5.  7.  4.  1.  2.]\n",
            "    [ 8.  9.  0.  3.  5.]\n",
            "    [ 9.  6.  6.  1.  9.]\n",
            "    [ 6.  3. 10.  3.  1.]\n",
            "    [ 8.  8.  6.  5.  1.]]\n",
            "\n",
            "   [[ 8.  3.  1.  9.  0.]\n",
            "    [ 8.  3.  5.  3.  5.]\n",
            "    [ 7.  7. 10.  4.  1.]\n",
            "    [ 8.  9.  2.  8.  0.]\n",
            "    [ 1.  7.  4.  3.  6.]]]]\n",
            "\n",
            "\n",
            "\n",
            " [[[[ 5.  3.  2.  7.  6.]\n",
            "    [ 0.  5.  7.  0.  6.]\n",
            "    [ 3.  2.  0.  9.  5.]\n",
            "    [ 1.  4. 10.  6.  2.]\n",
            "    [ 5.  7.  8.  2.  3.]]\n",
            "\n",
            "   [[ 6.  4. 10.  6.  9.]\n",
            "    [ 0.  9.  9.  1.  2.]\n",
            "    [ 6.  4.  5.  4.  9.]\n",
            "    [ 1. 10.  2.  3.  7.]\n",
            "    [ 1.  5.  7.  6. 10.]]]\n",
            "\n",
            "\n",
            "  [[[ 7.  6.  9.  7.  6.]\n",
            "    [ 9. 10.  0.  9.  5.]\n",
            "    [ 1.  8.  4.  8.  0.]\n",
            "    [ 1.  3.  7.  1.  2.]\n",
            "    [ 6.  3.  1.  1.  5.]]\n",
            "\n",
            "   [[ 5.  9.  9.  7.  9.]\n",
            "    [ 9.  3.  1.  8.  2.]\n",
            "    [ 3.  1.  2.  6.  3.]\n",
            "    [10.  6.  4.  0.  3.]\n",
            "    [ 4.  4.  5.  2.  5.]]]\n",
            "\n",
            "\n",
            "  [[[ 7.  9.  3.  4.  8.]\n",
            "    [10.  5.  4.  3.  4.]\n",
            "    [ 0.  9.  9.  2.  4.]\n",
            "    [ 3.  7.  7.  6.  7.]\n",
            "    [ 8. 10.  3.  1.  8.]]\n",
            "\n",
            "   [[ 4.  9.  9.  9.  4.]\n",
            "    [ 6.  6.  2.  9.  5.]\n",
            "    [ 4.  4.  5.  7.  7.]\n",
            "    [ 5.  2.  7.  5. 10.]\n",
            "    [ 6.  3.  0.  6.  5.]]]\n",
            "\n",
            "\n",
            "  [[[ 0.  3.  7.  4.  4.]\n",
            "    [ 5.  8.  6.  3. 10.]\n",
            "    [ 7.  9.  9.  4.  5.]\n",
            "    [ 0.  1.  6.  2.  6.]\n",
            "    [ 2.  8.  2.  2.  1.]]\n",
            "\n",
            "   [[ 4.  2.  4. 10.  1.]\n",
            "    [ 8.  5.  5.  6.  5.]\n",
            "    [ 4.  7.  5.  6.  4.]\n",
            "    [ 1.  1.  4.  9.  2.]\n",
            "    [ 3.  1.  3.  5.  9.]]]]\n",
            "\n",
            "\n",
            "\n",
            " [[[[ 2.  2.  1.  3.  6.]\n",
            "    [ 2.  9.  2.  9.  1.]\n",
            "    [ 1.  2.  5.  4.  1.]\n",
            "    [ 4.  7.  4.  2.  9.]\n",
            "    [ 6.  3.  2.  4.  7.]]\n",
            "\n",
            "   [[ 7.  7.  1.  8.  5.]\n",
            "    [ 1. 10.  6.  9.  8.]\n",
            "    [ 5.  8.  7.  8.  4.]\n",
            "    [ 4.  9.  8.  1.  2.]\n",
            "    [ 3.  6.  7. 10.  5.]]]\n",
            "\n",
            "\n",
            "  [[[ 3.  5.  9. 10.  4.]\n",
            "    [ 4.  7.  6.  2.  0.]\n",
            "    [ 3.  9.  2.  0.  7.]\n",
            "    [ 0.  4.  7.  9.  6.]\n",
            "    [ 6.  2.  6.  3.  6.]]\n",
            "\n",
            "   [[ 8.  8.  7.  6.  3.]\n",
            "    [ 5.  2.  9.  8.  1.]\n",
            "    [ 5.  3.  9.  5.  3.]\n",
            "    [ 4.  2.  8.  0.  1.]\n",
            "    [ 1.  7.  8.  7. 10.]]]\n",
            "\n",
            "\n",
            "  [[[ 6.  6.  6.  2.  8.]\n",
            "    [ 4.  9. 10.  1.  5.]\n",
            "    [ 2.  5.  9.  5.  4.]\n",
            "    [ 4.  3.  3.  9. 10.]\n",
            "    [ 8.  1.  4.  9.  8.]]\n",
            "\n",
            "   [[ 8.  5.  8.  6.  4.]\n",
            "    [10.  0.  6.  5. 10.]\n",
            "    [ 5.  7.  3.  1.  3.]\n",
            "    [ 3.  8.  0.  3.  7.]\n",
            "    [ 9.  4.  6.  7.  1.]]]\n",
            "\n",
            "\n",
            "  [[[10.  2.  8. 10.  7.]\n",
            "    [ 4.  7.  5.  3.  4.]\n",
            "    [ 1.  4.  0.  6.  2.]\n",
            "    [ 4.  5.  1.  0.  5.]\n",
            "    [ 1.  1.  1.  4.  2.]]\n",
            "\n",
            "   [[ 1.  4.  9.  3.  3.]\n",
            "    [ 9.  9.  6.  6.  3.]\n",
            "    [ 0.  8.  2.  2.  6.]\n",
            "    [10.  8.  0.  5.  9.]\n",
            "    [ 7. 10.  5.  1. 10.]]]]]\n"
          ]
        }
      ]
    },
    {
      "cell_type": "markdown",
      "source": [
        "## **Universal Function**"
      ],
      "metadata": {
        "id": "i2jtQXcvsE0k"
      }
    },
    {
      "cell_type": "code",
      "source": [
        "D=np.random.rand(1000000)\n",
        "print(D)"
      ],
      "metadata": {
        "colab": {
          "base_uri": "https://localhost:8080/"
        },
        "id": "pmvXT3jwhXnv",
        "outputId": "43184634-e419-44ac-c280-e3a7ee01aad1"
      },
      "execution_count": null,
      "outputs": [
        {
          "output_type": "stream",
          "name": "stdout",
          "text": [
            "[0.79143066 0.62746618 0.29460021 ... 0.0123858  0.58842024 0.13833733]\n"
          ]
        }
      ]
    },
    {
      "cell_type": "code",
      "source": [
        "%timeit sum(D) #it takes 120 milli seconds\n",
        "%timeit np.sum(D) #it takes micro seconds\n",
        "#numpy is more faster than any function"
      ],
      "metadata": {
        "colab": {
          "base_uri": "https://localhost:8080/"
        },
        "id": "49-6Bi0_hXlP",
        "outputId": "88541a80-60c9-4eea-ba5d-ff2b85f8d566"
      },
      "execution_count": null,
      "outputs": [
        {
          "output_type": "stream",
          "name": "stdout",
          "text": [
            "120 ms ± 39.1 ms per loop (mean ± std. dev. of 7 runs, 10 loops each)\n",
            "398 µs ± 31.4 µs per loop (mean ± std. dev. of 7 runs, 1000 loops each)\n"
          ]
        }
      ]
    },
    {
      "cell_type": "code",
      "source": [
        "def sum_g(B):\n",
        "   sum=0\n",
        "   for i in B:\n",
        "         sum+=i\n",
        "   return sum"
      ],
      "metadata": {
        "id": "05jx859ehXi_"
      },
      "execution_count": null,
      "outputs": []
    },
    {
      "cell_type": "code",
      "source": [
        "%timeit sum_g(B)"
      ],
      "metadata": {
        "colab": {
          "base_uri": "https://localhost:8080/"
        },
        "id": "yEoTAMeyhXg3",
        "outputId": "e521a94c-00b0-4a76-d96c-a59c54c7ad86"
      },
      "execution_count": null,
      "outputs": [
        {
          "output_type": "stream",
          "name": "stdout",
          "text": [
            "1.72 µs ± 541 ns per loop (mean ± std. dev. of 7 runs, 1000000 loops each)\n"
          ]
        }
      ]
    },
    {
      "cell_type": "code",
      "source": [
        "A=np.arange(10)\n",
        "print(A)"
      ],
      "metadata": {
        "colab": {
          "base_uri": "https://localhost:8080/"
        },
        "id": "lTmm6EIJhXef",
        "outputId": "22e491af-9edf-464f-9158-312899a21cf6"
      },
      "execution_count": null,
      "outputs": [
        {
          "output_type": "stream",
          "name": "stdout",
          "text": [
            "[0 1 2 3 4 5 6 7 8 9]\n"
          ]
        }
      ]
    },
    {
      "cell_type": "code",
      "source": [
        "B=np.arange(10,20)\n",
        "print(B)"
      ],
      "metadata": {
        "colab": {
          "base_uri": "https://localhost:8080/"
        },
        "id": "p8Ftk5COhXVv",
        "outputId": "89e78610-e04e-4b2a-9fc9-befb42024a5b"
      },
      "execution_count": null,
      "outputs": [
        {
          "output_type": "stream",
          "name": "stdout",
          "text": [
            "[10 11 12 13 14 15 16 17 18 19]\n"
          ]
        }
      ]
    },
    {
      "cell_type": "code",
      "source": [
        "D=A+B\n",
        "print(D)"
      ],
      "metadata": {
        "colab": {
          "base_uri": "https://localhost:8080/"
        },
        "id": "oVhese9yhXCv",
        "outputId": "9dec583f-e8ea-49f3-d257-6cf9b51ee583"
      },
      "execution_count": null,
      "outputs": [
        {
          "output_type": "stream",
          "name": "stdout",
          "text": [
            "[10 12 14 16 18 20 22 24 26 28]\n"
          ]
        }
      ]
    },
    {
      "cell_type": "code",
      "source": [
        "S=np.sum(A)\n",
        "print(S)\n"
      ],
      "metadata": {
        "colab": {
          "base_uri": "https://localhost:8080/"
        },
        "id": "lPMymHpKDaT7",
        "outputId": "68be0b9c-89f9-443b-d419-0100ff3e5b3e"
      },
      "execution_count": null,
      "outputs": [
        {
          "output_type": "stream",
          "name": "stdout",
          "text": [
            "45\n"
          ]
        }
      ]
    },
    {
      "cell_type": "code",
      "source": [
        "A.sum()"
      ],
      "metadata": {
        "colab": {
          "base_uri": "https://localhost:8080/"
        },
        "id": "bM6gitMTEAsD",
        "outputId": "66e04b98-aa69-4714-a3d2-55581d8d725b"
      },
      "execution_count": null,
      "outputs": [
        {
          "output_type": "execute_result",
          "data": {
            "text/plain": [
              "np.int64(45)"
            ]
          },
          "metadata": {},
          "execution_count": 65
        }
      ]
    },
    {
      "cell_type": "code",
      "source": [
        "C=np.multiply(A,B)\n",
        "print(C)"
      ],
      "metadata": {
        "colab": {
          "base_uri": "https://localhost:8080/"
        },
        "id": "E2PNA-DCGBnz",
        "outputId": "d9150008-82f2-4a4f-983b-c311014eae6f"
      },
      "execution_count": null,
      "outputs": [
        {
          "output_type": "stream",
          "name": "stdout",
          "text": [
            "[  0  11  24  39  56  75  96 119 144 171]\n"
          ]
        }
      ]
    },
    {
      "cell_type": "code",
      "source": [
        "D=A*B\n",
        "D"
      ],
      "metadata": {
        "colab": {
          "base_uri": "https://localhost:8080/"
        },
        "id": "_U9JxTPWGBk6",
        "outputId": "79bbf3cc-4ec7-494a-bdae-87c7d3345eee"
      },
      "execution_count": null,
      "outputs": [
        {
          "output_type": "execute_result",
          "data": {
            "text/plain": [
              "array([  0,  11,  24,  39,  56,  75,  96, 119, 144, 171])"
            ]
          },
          "metadata": {},
          "execution_count": 68
        }
      ]
    },
    {
      "cell_type": "code",
      "source": [
        "C=np.power(A,2)\n",
        "print(C)"
      ],
      "metadata": {
        "colab": {
          "base_uri": "https://localhost:8080/"
        },
        "id": "LgAQygzbGBiU",
        "outputId": "59adf06b-7a49-4e22-9b1b-9a9da302a072"
      },
      "execution_count": null,
      "outputs": [
        {
          "output_type": "stream",
          "name": "stdout",
          "text": [
            "[ 0  1  4  9 16 25 36 49 64 81]\n"
          ]
        }
      ]
    },
    {
      "cell_type": "code",
      "source": [
        "D=np.mod(A,3)\n",
        "print(D)"
      ],
      "metadata": {
        "colab": {
          "base_uri": "https://localhost:8080/"
        },
        "id": "CHCQ9WNHGBdy",
        "outputId": "54d04768-c0ed-48d5-9aa2-bb3bb0448463"
      },
      "execution_count": null,
      "outputs": [
        {
          "output_type": "stream",
          "name": "stdout",
          "text": [
            "[0 1 2 0 1 2 0 1 2 0]\n"
          ]
        }
      ]
    },
    {
      "cell_type": "code",
      "source": [
        "A.shape"
      ],
      "metadata": {
        "colab": {
          "base_uri": "https://localhost:8080/"
        },
        "id": "2IOiFS7UZ4Vu",
        "outputId": "c59401e2-7711-4d3d-f5eb-1fc009f439e8"
      },
      "execution_count": null,
      "outputs": [
        {
          "output_type": "execute_result",
          "data": {
            "text/plain": [
              "(5, 4, 2, 5, 5)"
            ]
          },
          "metadata": {},
          "execution_count": 16
        }
      ]
    },
    {
      "cell_type": "code",
      "source": [
        "B=A.sum(axis=3)"
      ],
      "metadata": {
        "id": "IzZT-eLEZ9oO"
      },
      "execution_count": null,
      "outputs": []
    },
    {
      "cell_type": "code",
      "source": [
        "B.shape"
      ],
      "metadata": {
        "colab": {
          "base_uri": "https://localhost:8080/"
        },
        "id": "JgEfibf8aI1V",
        "outputId": "0face619-6472-4e24-9ef2-c7258518937d"
      },
      "execution_count": null,
      "outputs": [
        {
          "output_type": "execute_result",
          "data": {
            "text/plain": [
              "(5, 4, 2, 5)"
            ]
          },
          "metadata": {},
          "execution_count": 19
        }
      ]
    },
    {
      "cell_type": "code",
      "source": [
        "S=np.arange(10)\n",
        "s=np.sin(S)\n",
        "print(s)"
      ],
      "metadata": {
        "colab": {
          "base_uri": "https://localhost:8080/"
        },
        "id": "ZC9S633Sg72K",
        "outputId": "de6c571d-95fc-4e91-b445-154fe6dea0fe"
      },
      "execution_count": null,
      "outputs": [
        {
          "output_type": "stream",
          "name": "stdout",
          "text": [
            "[ 0.          0.84147098  0.90929743  0.14112001 -0.7568025  -0.95892427\n",
            " -0.2794155   0.6569866   0.98935825  0.41211849]\n"
          ]
        }
      ]
    },
    {
      "cell_type": "code",
      "source": [
        "import matplotlib.pyplot as plt\n"
      ],
      "metadata": {
        "id": "5V_bXUxrg7w5"
      },
      "execution_count": 2,
      "outputs": []
    },
    {
      "cell_type": "code",
      "source": [
        "image=plt.imread('D:\\project\\images\\WhatsApp Image 2025-05-25 at 20.34.00_55c61624.jpg')\n",
        "plt.imshow(image)"
      ],
      "metadata": {
        "colab": {
          "base_uri": "https://localhost:8080/",
          "height": 304
        },
        "id": "oJZGELyjiTDl",
        "outputId": "394534a3-46d0-4f40-c544-4a8d7dbb057a"
      },
      "execution_count": 3,
      "outputs": [
        {
          "output_type": "error",
          "ename": "FileNotFoundError",
          "evalue": "[Errno 2] No such file or directory: 'D:\\\\project\\\\images\\\\WhatsApp Image 2025-05-25 at 20.34.00_55c61624.jpg'",
          "traceback": [
            "\u001b[0;31m---------------------------------------------------------------------------\u001b[0m",
            "\u001b[0;31mFileNotFoundError\u001b[0m                         Traceback (most recent call last)",
            "\u001b[0;32m<ipython-input-3-184263410>\u001b[0m in \u001b[0;36m<cell line: 0>\u001b[0;34m()\u001b[0m\n\u001b[0;32m----> 1\u001b[0;31m \u001b[0mimage\u001b[0m\u001b[0;34m=\u001b[0m\u001b[0mplt\u001b[0m\u001b[0;34m.\u001b[0m\u001b[0mimread\u001b[0m\u001b[0;34m(\u001b[0m\u001b[0;34m'D:\\project\\images\\WhatsApp Image 2025-05-25 at 20.34.00_55c61624.jpg'\u001b[0m\u001b[0;34m)\u001b[0m\u001b[0;34m\u001b[0m\u001b[0;34m\u001b[0m\u001b[0m\n\u001b[0m\u001b[1;32m      2\u001b[0m \u001b[0mplt\u001b[0m\u001b[0;34m.\u001b[0m\u001b[0mimshow\u001b[0m\u001b[0;34m(\u001b[0m\u001b[0mimage\u001b[0m\u001b[0;34m)\u001b[0m\u001b[0;34m\u001b[0m\u001b[0;34m\u001b[0m\u001b[0m\n",
            "\u001b[0;32m/usr/local/lib/python3.11/dist-packages/matplotlib/pyplot.py\u001b[0m in \u001b[0;36mimread\u001b[0;34m(fname, format)\u001b[0m\n\u001b[1;32m   2611\u001b[0m         \u001b[0mfname\u001b[0m\u001b[0;34m:\u001b[0m \u001b[0mstr\u001b[0m \u001b[0;34m|\u001b[0m \u001b[0mpathlib\u001b[0m\u001b[0;34m.\u001b[0m\u001b[0mPath\u001b[0m \u001b[0;34m|\u001b[0m \u001b[0mBinaryIO\u001b[0m\u001b[0;34m,\u001b[0m \u001b[0mformat\u001b[0m\u001b[0;34m:\u001b[0m \u001b[0mstr\u001b[0m \u001b[0;34m|\u001b[0m \u001b[0;32mNone\u001b[0m \u001b[0;34m=\u001b[0m \u001b[0;32mNone\u001b[0m\u001b[0;34m\u001b[0m\u001b[0;34m\u001b[0m\u001b[0m\n\u001b[1;32m   2612\u001b[0m ) -> np.ndarray:\n\u001b[0;32m-> 2613\u001b[0;31m     \u001b[0;32mreturn\u001b[0m \u001b[0mmatplotlib\u001b[0m\u001b[0;34m.\u001b[0m\u001b[0mimage\u001b[0m\u001b[0;34m.\u001b[0m\u001b[0mimread\u001b[0m\u001b[0;34m(\u001b[0m\u001b[0mfname\u001b[0m\u001b[0;34m,\u001b[0m \u001b[0mformat\u001b[0m\u001b[0;34m)\u001b[0m\u001b[0;34m\u001b[0m\u001b[0;34m\u001b[0m\u001b[0m\n\u001b[0m\u001b[1;32m   2614\u001b[0m \u001b[0;34m\u001b[0m\u001b[0m\n\u001b[1;32m   2615\u001b[0m \u001b[0;34m\u001b[0m\u001b[0m\n",
            "\u001b[0;32m/usr/local/lib/python3.11/dist-packages/matplotlib/image.py\u001b[0m in \u001b[0;36mimread\u001b[0;34m(fname, format)\u001b[0m\n\u001b[1;32m   1500\u001b[0m             \u001b[0;34m\"``np.array(PIL.Image.open(urllib.request.urlopen(url)))``.\"\u001b[0m\u001b[0;34m\u001b[0m\u001b[0;34m\u001b[0m\u001b[0m\n\u001b[1;32m   1501\u001b[0m             )\n\u001b[0;32m-> 1502\u001b[0;31m     \u001b[0;32mwith\u001b[0m \u001b[0mimg_open\u001b[0m\u001b[0;34m(\u001b[0m\u001b[0mfname\u001b[0m\u001b[0;34m)\u001b[0m \u001b[0;32mas\u001b[0m \u001b[0mimage\u001b[0m\u001b[0;34m:\u001b[0m\u001b[0;34m\u001b[0m\u001b[0;34m\u001b[0m\u001b[0m\n\u001b[0m\u001b[1;32m   1503\u001b[0m         return (_pil_png_to_float_array(image)\n\u001b[1;32m   1504\u001b[0m                 \u001b[0;32mif\u001b[0m \u001b[0misinstance\u001b[0m\u001b[0;34m(\u001b[0m\u001b[0mimage\u001b[0m\u001b[0;34m,\u001b[0m \u001b[0mPIL\u001b[0m\u001b[0;34m.\u001b[0m\u001b[0mPngImagePlugin\u001b[0m\u001b[0;34m.\u001b[0m\u001b[0mPngImageFile\u001b[0m\u001b[0;34m)\u001b[0m \u001b[0;32melse\u001b[0m\u001b[0;34m\u001b[0m\u001b[0;34m\u001b[0m\u001b[0m\n",
            "\u001b[0;32m/usr/local/lib/python3.11/dist-packages/PIL/Image.py\u001b[0m in \u001b[0;36mopen\u001b[0;34m(fp, mode, formats)\u001b[0m\n\u001b[1;32m   3503\u001b[0m \u001b[0;34m\u001b[0m\u001b[0m\n\u001b[1;32m   3504\u001b[0m     \u001b[0;32mif\u001b[0m \u001b[0mfilename\u001b[0m\u001b[0;34m:\u001b[0m\u001b[0;34m\u001b[0m\u001b[0;34m\u001b[0m\u001b[0m\n\u001b[0;32m-> 3505\u001b[0;31m         \u001b[0mfp\u001b[0m \u001b[0;34m=\u001b[0m \u001b[0mbuiltins\u001b[0m\u001b[0;34m.\u001b[0m\u001b[0mopen\u001b[0m\u001b[0;34m(\u001b[0m\u001b[0mfilename\u001b[0m\u001b[0;34m,\u001b[0m \u001b[0;34m\"rb\"\u001b[0m\u001b[0;34m)\u001b[0m\u001b[0;34m\u001b[0m\u001b[0;34m\u001b[0m\u001b[0m\n\u001b[0m\u001b[1;32m   3506\u001b[0m         \u001b[0mexclusive_fp\u001b[0m \u001b[0;34m=\u001b[0m \u001b[0;32mTrue\u001b[0m\u001b[0;34m\u001b[0m\u001b[0;34m\u001b[0m\u001b[0m\n\u001b[1;32m   3507\u001b[0m     \u001b[0;32melse\u001b[0m\u001b[0;34m:\u001b[0m\u001b[0;34m\u001b[0m\u001b[0;34m\u001b[0m\u001b[0m\n",
            "\u001b[0;31mFileNotFoundError\u001b[0m: [Errno 2] No such file or directory: 'D:\\\\project\\\\images\\\\WhatsApp Image 2025-05-25 at 20.34.00_55c61624.jpg'"
          ]
        }
      ]
    }
  ]
}